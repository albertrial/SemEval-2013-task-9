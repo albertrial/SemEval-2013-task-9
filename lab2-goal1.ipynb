{
 "cells": [
  {
   "cell_type": "markdown",
   "metadata": {},
   "source": [
    "# Lab1\n",
    "\n",
    "### Imports "
   ]
  },
  {
   "cell_type": "code",
   "execution_count": 133,
   "metadata": {},
   "outputs": [],
   "source": [
    "import os\n",
    "import nltk\n",
    "#nltk.download('punkt')\n",
    "#nltk.download('stopwords')\n",
    "from nltk.tokenize import word_tokenize\n",
    "from nltk.corpus import stopwords \n",
    "import xml.etree.ElementTree as ET \n",
    "import pycrfsuite"
   ]
  },
  {
   "cell_type": "markdown",
   "metadata": {},
   "source": [
    "### Variables"
   ]
  },
  {
   "cell_type": "code",
   "execution_count": 134,
   "metadata": {},
   "outputs": [],
   "source": [
    "inputdir = \"data/Devel\"\n",
    "drug_bank_path = \"resources/DrugBank.txt\"\n",
    "stopwords = set(stopwords.words('english')) "
   ]
  },
  {
   "cell_type": "markdown",
   "metadata": {},
   "source": [
    "### Functions"
   ]
  },
  {
   "cell_type": "code",
   "execution_count": 135,
   "metadata": {},
   "outputs": [],
   "source": [
    "def extract_drug_bank(drug_bank_path):\n",
    "    drug_bank = {}\n",
    "    with open(drug_bank_path, encoding=\"utf8\") as f:\n",
    "        for line in f:\n",
    "            data = line.strip().split('|')\n",
    "            drug_name = data[0]\n",
    "            drug_type = data[1]\n",
    "            drug_bank[drug_name.lower()] = drug_type\n",
    "    return drug_bank\n",
    "\n",
    "drug_bank = extract_drug_bank(drug_bank_path)"
   ]
  },
  {
   "cell_type": "code",
   "execution_count": 140,
   "metadata": {},
   "outputs": [],
   "source": [
    "def tokenize(text): \n",
    "    list_tokens = []\n",
    "    tokens = word_tokenize(text)\n",
    "    tokens = [word for word in tokens if word not in stopwords]\n",
    "    ini_token = 0\n",
    "    for token in tokens:\n",
    "        ini_token = text.find(token, ini_token)\n",
    "        list_tokens.append((token, ini_token, ini_token+len(token)-1))\n",
    "        ini_token += len(token)\n",
    "        \n",
    "    return list_tokens\n",
    "\n",
    "def extract_features(tokens):\n",
    "    features = []\n",
    "    \n",
    "    for i in range(len(tokens)):\n",
    "        token = tokens[i]\n",
    "        word = token[0]\n",
    "        \n",
    "        feature_vector = [\n",
    "            'bias',\n",
    "            'word.lower=' + word.lower(),\n",
    "            'word[-3:]=' + word[-3:],\n",
    "            'word[-2:]=' + word[-2:],\n",
    "            'word.isupper=%s' % word.isupper(),\n",
    "            'word.istitle=%s' % word.istitle(),\n",
    "            'word.isdigit=%s' % word.isdigit()\n",
    "        ]\n",
    "        if i > 0:\n",
    "            word1 = tokens[i-1][0]\n",
    "            feature_vector.extend([\n",
    "                '-1:word.lower=' + word1.lower(),\n",
    "                '-1:word.istitle=%s' % word1.istitle(),\n",
    "                '-1:word.isupper=%s' % word1.isupper()\n",
    "            ])\n",
    "        else:\n",
    "            feature_vector.append('BOS')\n",
    "\n",
    "        if i < len(sent)-1:\n",
    "            word1 = sent[i+1][0]\n",
    "            feature_vector.extend([\n",
    "                '+1:word.lower=' + word1.lower(),\n",
    "                '+1:word.istitle=%s' % word1.istitle(),\n",
    "                '+1:word.isupper=%s' % word1.isupper()\n",
    "            ])\n",
    "        else:\n",
    "            feature_vector.append('EOS')\n",
    "            \n",
    "        features.append(feature_vector)\n",
    "        \n",
    "    return features\n",
    "\n",
    "def output_features(sent_id, tokens, entities, features):\n",
    "    for i in range(len(tokens)):\n",
    "        \n",
    "    \n",
    "    return\n",
    "\n",
    "def output_entities(sent_id, tokens, classes, outf):\n",
    "    i = 0\n",
    "    while i < len(tokens):\n",
    "        token = tokens[i][0]\n",
    "        offset_ini = tokens[i][1]\n",
    "        offset_end = tokens[i][2]\n",
    "        token_BIO = classes[i][0]\n",
    "        if token_BIO == 'B':\n",
    "            token_class = classes[i][2:]\n",
    "        ++i\n",
    "        \n",
    "        if token_BIO == 'B':\n",
    "            while i < len(tokens) and classes[i].startsWith('I'):\n",
    "                token = token + ' ' + tokens[i][0]\n",
    "                offset_end = tokens[i][2]\n",
    "                ++i\n",
    "                \n",
    "            outf.write(sent_id+'|'+str(offset_ini)+'-'+str(offset_end)+'|'+token+'|'+token_class)\n",
    "            outf.write(\"\\n\")\n",
    "    return\n",
    "\n",
    "def evaluate(inputdir, outputfile):\n",
    "    os.system(\"java -jar eval/evaluateNER.jar \"+ str(inputdir) + \" \" + str(outputfile))\n",
    "    return\n",
    "\n",
    "def my_nerc(inputdir, outputfile):\n",
    "    outf = open(outputfile, \"w\")\n",
    "    # Read files and parse files\n",
    "    for filename in os.listdir(inputdir):     \n",
    "        fullname = os.path.join(inputdir, filename)\n",
    "        tree = ET.parse(fullname)\n",
    "        root = tree.getroot()    \n",
    "        \n",
    "        for sentence in root.findall('sentence'):\n",
    "            # Get sentence id and tokenize text\n",
    "            sent_id = sentence.get('id')\n",
    "            tokens = tokenize(sentence.get('text'))\n",
    "            entities = extract_entities(tokens)\n",
    "            output_entities(sent_id, entities, outf)\n",
    "    \n",
    "    outf.close()\n",
    "    evaluate(inputdir, outputfile)\n",
    "    return"
   ]
  },
  {
   "cell_type": "code",
   "execution_count": 141,
   "metadata": {},
   "outputs": [],
   "source": [
    "my_nerc(inputdir, 'task9.1_devel_1.txt')\n"
   ]
  },
  {
   "cell_type": "code",
   "execution_count": null,
   "metadata": {},
   "outputs": [],
   "source": []
  },
  {
   "cell_type": "code",
   "execution_count": null,
   "metadata": {},
   "outputs": [],
   "source": []
  }
 ],
 "metadata": {
  "kernelspec": {
   "display_name": "Python 3",
   "language": "python",
   "name": "python3"
  },
  "language_info": {
   "codemirror_mode": {
    "name": "ipython",
    "version": 3
   },
   "file_extension": ".py",
   "mimetype": "text/x-python",
   "name": "python",
   "nbconvert_exporter": "python",
   "pygments_lexer": "ipython3",
   "version": "3.7.4"
  }
 },
 "nbformat": 4,
 "nbformat_minor": 2
}
