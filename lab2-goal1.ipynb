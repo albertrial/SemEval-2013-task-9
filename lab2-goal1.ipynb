{
 "cells": [
  {
   "cell_type": "markdown",
   "metadata": {},
   "source": [
    "# Lab1\n",
    "\n",
    "### Imports "
   ]
  },
  {
   "cell_type": "code",
   "execution_count": 29,
   "metadata": {},
   "outputs": [],
   "source": [
    "import os\n",
    "import nltk\n",
    "from nltk.tokenize import word_tokenize\n",
    "import xml.etree.ElementTree as ET \n",
    "import pycrfsuite\n",
    "import re"
   ]
  },
  {
   "cell_type": "markdown",
   "metadata": {},
   "source": [
    "### Paths"
   ]
  },
  {
   "cell_type": "code",
   "execution_count": 2,
   "metadata": {},
   "outputs": [],
   "source": [
    "train_path = 'data\\Train'\n",
    "devel_path = 'data\\Devel'\n",
    "test_path = 'data\\Test-NER'"
   ]
  },
  {
   "cell_type": "markdown",
   "metadata": {},
   "source": [
    "### Feature extractor"
   ]
  },
  {
   "cell_type": "code",
   "execution_count": 15,
   "metadata": {},
   "outputs": [],
   "source": [
    "def tokenize(text): \n",
    "    list_tokens = []\n",
    "    tokens = word_tokenize(text)\n",
    "    pos_tag = [tag[1] for tag in nltk.pos_tag(tokens)]\n",
    "    ini_token = 0\n",
    "    for token in tokens:\n",
    "        ini_token = text.find(token, ini_token)\n",
    "        list_tokens.append((token, ini_token, ini_token+len(token)-1))\n",
    "        ini_token += len(token)\n",
    "        \n",
    "    return list_tokens, pos_tag"
   ]
  },
  {
   "cell_type": "code",
   "execution_count": 41,
   "metadata": {},
   "outputs": [],
   "source": [
    "def extract_features(tokens, pos_tag):\n",
    "    features = []\n",
    "    \n",
    "    for i in range(len(tokens)):\n",
    "        token = tokens[i]\n",
    "        word = token[0]\n",
    "        \n",
    "        feature_vector = [\n",
    "            'word.lower=' + word.lower(),\n",
    "            'word[-5:]=' + word[-5:],\n",
    "            'word[-4:]=' + word[-4:],\n",
    "            'word[-3:]=' + word[-3:],\n",
    "            'word[-2:]=' + word[-2:],\n",
    "            'word[:2]=' + word[:2],\n",
    "            'word[:3]=' + word[:3],\n",
    "            'word[:4]=' + word[:4],\n",
    "            'word[:5]=' + word[:5],\n",
    "            'word.length=%s' % len(word),\n",
    "            'word.isupper=%s' % word.isupper(),\n",
    "            'word.containdigit=%s' % bool(re.search(r'\\d', word)),\n",
    "            'word.containdash=%s' % ('-' in word),\n",
    "            'word.postag=' + pos_tag[i]\n",
    "        ]\n",
    "        if i > 0:\n",
    "            word1 = tokens[i-1][0]\n",
    "            feature_vector.extend([\n",
    "                '-1:word.lower=' + word1.lower(),\n",
    "                '-1:word.isupper=%s' % word1.isupper(),\n",
    "                '-1:word.length%s=' % len(word1),\n",
    "                '-1:word.isupper=%s' % word1.isupper(),\n",
    "                '-1:word.containdigit=%s' % bool(re.search(r'\\d', word1)),\n",
    "                '-1:word.containdash=%s' % ('-' in word1),\n",
    "                '-1:word.postag=' + pos_tag[i-1]\n",
    "                \n",
    "            ])\n",
    "        else:\n",
    "            feature_vector.append('Beginning')\n",
    "\n",
    "        if i < len(tokens)-1:\n",
    "            word1 = tokens[i+1][0]\n",
    "            feature_vector.extend([\n",
    "                '+1:word.lower=' + word1.lower(),\n",
    "                '+1:word.isupper=%s' % word1.isupper(),\n",
    "                '+1:word.length%s=' % len(word1),\n",
    "                '+1:word.isupper=%s' % word1.isupper(),\n",
    "                '+1:word.containdigit=%s' % bool(re.search(r'\\d', word1)),\n",
    "                '+1:word.containdash=%s' % ('-' in word1),\n",
    "                '+1:word.postag=' + pos_tag[i+1]\n",
    "            ])\n",
    "        else:\n",
    "            feature_vector.append('End')\n",
    "            \n",
    "        features.append(feature_vector)\n",
    "      \n",
    "    return features"
   ]
  },
  {
   "cell_type": "code",
   "execution_count": 42,
   "metadata": {},
   "outputs": [],
   "source": [
    "def output_features(sent_id, tokens, entities, features, outf):\n",
    "    j = 0\n",
    "    for i in range(len(tokens)):\n",
    "        word = tokens[i][0]\n",
    "        features_str = ' '.join(features[i])\n",
    "        \n",
    "        if j < len(entities) and word in entities[j].get('name').split():\n",
    "            entity_names = entities[j].get('name').split()\n",
    "            if entity_names.index(word) == 0:\n",
    "                outf.write(sent_id+' '+word+' '+str(tokens[i][1])+' '+str(tokens[i][2])+' '+'B-'+entities[j].get('type')+' '+features_str)\n",
    "            elif entity_names.index(word) < len(entity_names)-1:\n",
    "                outf.write(sent_id+' '+word+' '+str(tokens[i][1])+' '+str(tokens[i][2])+' '+'I-'+entities[j].get('type')+' '+features_str)\n",
    "            else:\n",
    "                outf.write(sent_id+' '+word+' '+str(tokens[i][1])+' '+str(tokens[i][2])+' '+'I-'+entities[j].get('type')+' '+features_str)\n",
    "                ++j\n",
    "        else:\n",
    "            outf.write(sent_id+' '+word+' '+str(tokens[i][1])+' '+str(tokens[i][2])+' '+'O'+' '+features_str)\n",
    "            ++j\n",
    "        outf.write(\"\\n\")"
   ]
  },
  {
   "cell_type": "code",
   "execution_count": 43,
   "metadata": {},
   "outputs": [],
   "source": [
    "def main_extract_features(inputdir, outputfile):\n",
    "    outf = open(outputfile, \"w\")\n",
    "    for filename in os.listdir(inputdir):     \n",
    "        fullname = os.path.join(inputdir, filename)\n",
    "        tree = ET.parse(fullname)\n",
    "        root = tree.getroot()    \n",
    "        \n",
    "        for sentence in root.findall('sentence'):\n",
    "            sent_id = sentence.get('id')\n",
    "            tokens, pos_tag = tokenize(sentence.get('text'))\n",
    "            entities = [{'name':entity.get('text'), 'type':entity.get('type'), 'offset':entity.get('charOffset')}\n",
    "                         for entity in sentence.findall('entity')]\n",
    "            features = extract_features(tokens, pos_tag)\n",
    "            output_features(sent_id, tokens, entities, features, outf)\n",
    "    \n",
    "    outf.close()\n",
    "    return "
   ]
  },
  {
   "cell_type": "code",
   "execution_count": 44,
   "metadata": {},
   "outputs": [],
   "source": [
    "main_extract_features(train_path, 'train_feature_vectors')\n",
    "main_extract_features(devel_path, 'devel_feature_vectors')\n",
    "main_extract_features(test_path, 'test_feature_vectors')"
   ]
  },
  {
   "cell_type": "markdown",
   "metadata": {},
   "source": [
    "### Learner"
   ]
  },
  {
   "cell_type": "code",
   "execution_count": 45,
   "metadata": {},
   "outputs": [],
   "source": [
    "def read_features_and_classes(inputfile):\n",
    "    features = []\n",
    "    gold_classes = []\n",
    "    prev_sent_id = ''\n",
    "    with open(inputfile) as f:\n",
    "        for i, line in enumerate(f):\n",
    "            \n",
    "            saved_features = line.split()\n",
    "            sent_id = saved_features[0]\n",
    "            \n",
    "            if i == 0:\n",
    "                feature_vector = []\n",
    "                gold_classes_vector = []\n",
    "                feature_vector.append(saved_features[5:])\n",
    "                gold_classes_vector.append(saved_features[4])\n",
    "            \n",
    "            elif sent_id == prev_sent_id:\n",
    "                feature_vector.append(saved_features[5:])\n",
    "                gold_classes_vector.append(saved_features[4])\n",
    "            \n",
    "            else:\n",
    "                features.append(feature_vector)\n",
    "                gold_classes.append(gold_classes_vector)\n",
    "                feature_vector = []\n",
    "                gold_classes_vector = []\n",
    "            \n",
    "            prev_sent_id = sent_id\n",
    "    \n",
    "    return features, gold_classes               "
   ]
  },
  {
   "cell_type": "code",
   "execution_count": 46,
   "metadata": {},
   "outputs": [],
   "source": [
    "def train(features_file, model_name):\n",
    "    # Get features of train data\n",
    "    features_train, gs_train = read_features_and_classes(features_file)\n",
    "    \n",
    "    # Train\n",
    "    crf = pycrfsuite.Trainer(verbose=False)\n",
    "    crf.set_params({\n",
    "        'c1': 1.0,\n",
    "        'c2': 0.001,\n",
    "        'max_iterations': 1000,\n",
    "    })\n",
    "\n",
    "    for xseq, yseq in zip(features_train, gs_train):\n",
    "        crf.append(xseq, yseq)\n",
    "\n",
    "    crf.train(model_name)\n",
    "    \n",
    "    return"
   ]
  },
  {
   "cell_type": "code",
   "execution_count": 47,
   "metadata": {},
   "outputs": [],
   "source": [
    "train('train_feature_vectors', 'ml_model.crfsuite')"
   ]
  },
  {
   "cell_type": "markdown",
   "metadata": {},
   "source": [
    "### Classifier"
   ]
  },
  {
   "cell_type": "markdown",
   "metadata": {},
   "source": [
    "# TO-DO: Refactor"
   ]
  },
  {
   "cell_type": "code",
   "execution_count": 48,
   "metadata": {},
   "outputs": [],
   "source": [
    "def output_entities(sent_id, tokens, classes, outf):\n",
    "    i = 0\n",
    "    while i < len(tokens):\n",
    "        token = tokens[i][0]\n",
    "        offset_ini = tokens[i][1]\n",
    "        offset_end = tokens[i][2]\n",
    "        token_BIO = classes[i][0]\n",
    "        if token_BIO == 'B':\n",
    "            token_class = classes[i][2:]\n",
    "        ++i\n",
    "        \n",
    "        if token_BIO == 'B':\n",
    "            while i < len(tokens) and classes[i].startsWith('I'):\n",
    "                token = token + ' ' + tokens[i][0]\n",
    "                offset_end = tokens[i][2]\n",
    "                ++i\n",
    "                \n",
    "            outf.write(sent_id+'|'+str(offset_ini)+'-'+str(offset_end)+'|'+token+'|'+token_class)\n",
    "            outf.write(\"\\n\")\n",
    "    return"
   ]
  },
  {
   "cell_type": "code",
   "execution_count": 49,
   "metadata": {},
   "outputs": [],
   "source": [
    "def predict_classes(features_file, model_name):\n",
    "    tagger = pycrfsuite.Tagger()\n",
    "    tagger.open(model_name)\n",
    "    features_devel, gs_devel = read_features_and_classes(features_file)\n",
    "    predicted_classes = []\n",
    "    for xseq in features_devel:\n",
    "        for ch in tagger.tag(xseq):\n",
    "            predicted_classes.append(ch)\n",
    "    return predicted_classes"
   ]
  },
  {
   "cell_type": "code",
   "execution_count": 50,
   "metadata": {},
   "outputs": [],
   "source": [
    "def evaluate(inputdir, outputfile):\n",
    "    os.system(\"java -jar eval/evaluateNER.jar \"+ str(inputdir) + \" \" + str(outputfile))\n",
    "    return"
   ]
  },
  {
   "cell_type": "code",
   "execution_count": 51,
   "metadata": {},
   "outputs": [],
   "source": [
    "def my_nerc(inputdir, outputfile, model_name, features_file):\n",
    "    classes = predict_classes(features_file, model_name)\n",
    "    \n",
    "    outf = open(outputfile, \"w\")\n",
    "    # Read files and parse files\n",
    "    for filename in os.listdir(inputdir):\n",
    "        print('1')\n",
    "        fullname = os.path.join(inputdir, filename)\n",
    "        tree = ET.parse(fullname)\n",
    "        root = tree.getroot()    \n",
    "        sentences = root.findall('sentence')\n",
    "        for i in range(len(sentences)):\n",
    "            # Get sentence id and tokenize text\n",
    "            sent_id = sentences[i].get('id')\n",
    "            tokens = tokenize(sentences[i].get('text'))\n",
    "            output_entities(sent_id, tokens, classes[i], outf)\n",
    "    \n",
    "    outf.close()\n",
    "    evaluate(inputdir, outputfile)\n",
    "    return"
   ]
  },
  {
   "cell_type": "code",
   "execution_count": null,
   "metadata": {},
   "outputs": [
    {
     "name": "stdout",
     "output_type": "stream",
     "text": [
      "1\n"
     ]
    }
   ],
   "source": [
    "my_nerc(devel_path, 'task9.1_devel_1.txt', 'ml_model.crfsuite', 'devel_feature_vectors')"
   ]
  },
  {
   "cell_type": "code",
   "execution_count": null,
   "metadata": {},
   "outputs": [],
   "source": [
    "my_nerc(test_path, 'task9.1_test_1.txt', 'ml_model.crfsuite', 'test_feature_vectors')"
   ]
  },
  {
   "cell_type": "code",
   "execution_count": 16,
   "metadata": {},
   "outputs": [
    {
     "data": {
      "text/plain": [
       "([('Hola', 0, 3),\n",
       "  ('Albert', 5, 10),\n",
       "  (',', 11, 11),\n",
       "  ('viva', 13, 16),\n",
       "  ('Cardona', 18, 24)],\n",
       " ['NNP', 'NNP', ',', 'FW', 'NNP'])"
      ]
     },
     "execution_count": 16,
     "metadata": {},
     "output_type": "execute_result"
    }
   ],
   "source": [
    "ctokenize(\"Hola Albert, viva Cardona\")"
   ]
  },
  {
   "cell_type": "code",
   "execution_count": null,
   "metadata": {},
   "outputs": [],
   "source": []
  }
 ],
 "metadata": {
  "kernelspec": {
   "display_name": "Python 3",
   "language": "python",
   "name": "python3"
  },
  "language_info": {
   "codemirror_mode": {
    "name": "ipython",
    "version": 3
   },
   "file_extension": ".py",
   "mimetype": "text/x-python",
   "name": "python",
   "nbconvert_exporter": "python",
   "pygments_lexer": "ipython3",
   "version": "3.7.3"
  }
 },
 "nbformat": 4,
 "nbformat_minor": 2
}
