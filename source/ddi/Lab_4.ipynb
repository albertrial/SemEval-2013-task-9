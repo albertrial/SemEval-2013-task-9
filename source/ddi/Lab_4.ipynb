{
 "cells": [
  {
   "cell_type": "markdown",
   "metadata": {},
   "source": [
    "## Lab 4: DDI using ML\n",
    "\n",
    "### Imports"
   ]
  },
  {
   "cell_type": "code",
   "execution_count": 16,
   "metadata": {},
   "outputs": [],
   "source": [
    "import os\n",
    "import nltk\n",
    "import re\n",
    "from nltk.tokenize import word_tokenize\n",
    "from nltk.parse.corenlp import CoreNLPDependencyParser\n",
    "from nltk.corpus import stopwords \n",
    "import xml.etree.ElementTree as ET"
   ]
  },
  {
   "cell_type": "markdown",
   "metadata": {},
   "source": [
    "### Variables"
   ]
  },
  {
   "cell_type": "code",
   "execution_count": 20,
   "metadata": {},
   "outputs": [],
   "source": [
    "devel_oath = '../../data/Devel'\n",
    "test_path = '../../data/Test-DDI'\n",
    "train_path = '../../data/Train'\n",
    "outputfile = 'task9.2_develGoal_1.txt'\n",
    "\n",
    "my_parser = CoreNLPDependencyParser(url=\"http://localhost:9000\")"
   ]
  },
  {
   "cell_type": "markdown",
   "metadata": {},
   "source": [
    "### Functions"
   ]
  },
  {
   "cell_type": "code",
   "execution_count": 26,
   "metadata": {},
   "outputs": [],
   "source": [
    "def analyze(sent):\n",
    "    if len(sent)<= 0:\n",
    "        return None\n",
    "    mytree, = my_parser.raw_parse(sent)\n",
    "    tree = mytree.nodes\n",
    "    ini_token = 0\n",
    "                   \n",
    "    # clean tree\n",
    "    aux = ['address', 'head', 'lemma', 'rel', 'word', 'tag']\n",
    "    for k in range(1,len(tree)):\n",
    "        node = tree[k] \n",
    "        for key in list(node):\n",
    "            if key not in aux:\n",
    "                del node[key]\n",
    "        \n",
    "        # add offset\n",
    "        ini_token = sent.find(node['word'] ,ini_token)\n",
    "        \n",
    "        node['start'] = ini_token\n",
    "        ini_token += len(node['word'])\n",
    "        node['end'] = ini_token - 1\n",
    "    return tree"
   ]
  },
  {
   "cell_type": "code",
   "execution_count": 27,
   "metadata": {},
   "outputs": [],
   "source": [
    "def extract_features(tree, entities, e1,e2):\n",
    "    features = []\n",
    "    \n",
    "    for key in tree.keys():\n",
    "        node = tree[key]\n",
    "        print(node)\n",
    "        \n",
    "        feature_vector = [\n",
    "            # Features\n",
    "        ]\n",
    "        features.append(feature_vector)\n",
    "      \n",
    "    return features"
   ]
  },
  {
   "cell_type": "code",
   "execution_count": 35,
   "metadata": {},
   "outputs": [
    {
     "ename": "IndentationError",
     "evalue": "expected an indented block (<ipython-input-35-9f14dbe57852>, line 5)",
     "output_type": "error",
     "traceback": [
      "\u001b[1;36m  File \u001b[1;32m\"<ipython-input-35-9f14dbe57852>\"\u001b[1;36m, line \u001b[1;32m5\u001b[0m\n\u001b[1;33m    else:\u001b[0m\n\u001b[1;37m       ^\u001b[0m\n\u001b[1;31mIndentationError\u001b[0m\u001b[1;31m:\u001b[0m expected an indented block\n"
     ]
    }
   ],
   "source": [
    "def output_features(sent_id, e1, e2, type_rel,features, outf):\n",
    "    j = 0\n",
    "    if():\n",
    "                \n",
    "    else:\n",
    "        outf.write(sent_id+'\\t'+e1+'\\t'+e2+'\\t'+gold_class+'\\t'+features_str)\n",
    "        outf.write(\"\\n\")"
   ]
  },
  {
   "cell_type": "code",
   "execution_count": 33,
   "metadata": {},
   "outputs": [],
   "source": [
    "def main_extract_features(inputdir, outputfile):\n",
    "    outf = open(outputfile, \"w\")\n",
    "    # process each file in directory\n",
    "    for filename in os.listdir(inputdir):  \n",
    "        # parse XML file, obtaining a DOM tree\n",
    "        fullname = os.path.join(inputdir, filename)\n",
    "        tree = ET.parse(fullname)\n",
    "        root = tree.getroot()    \n",
    "        \n",
    "        # process each sentence in the file\n",
    "        for sentence in root.findall('sentence'):\n",
    "            \n",
    "            sent_id = sentence.get('id')\n",
    "            \n",
    "            # load sentence entities into a dictionary\n",
    "            entities = {}\n",
    "            for ent in sentence.findall('entity'):\n",
    "                ent_id = ent.get('id') \n",
    "                offs = ent.get('charOffset').split('-')\n",
    "                entities[ent_id] = offs\n",
    "            \n",
    "            tree = analyze(sentence.get('text'))\n",
    "            # for each pair in the sentence, decide whether it is DDI and its type\n",
    "            for pair in sentence.findall('pair'):\n",
    "                e1 = pair.get('e1')\n",
    "                e2 = pair.get('e2')\n",
    "            \n",
    "                features = extract_features(tree, entities, e1,e2)\n",
    "                output_features(sent_id, e1, e2, type_rel, features)\n",
    "            \n",
    "    outf.close()\n",
    "    return"
   ]
  },
  {
   "cell_type": "code",
   "execution_count": 34,
   "metadata": {},
   "outputs": [
    {
     "name": "stdout",
     "output_type": "stream",
     "text": [
      "{'address': 0, 'word': None, 'lemma': None, 'ctag': 'TOP', 'tag': 'TOP', 'feats': None, 'head': None, 'deps': defaultdict(<class 'list'>, {'ROOT': [4]}), 'rel': None}\n",
      "{'address': 1, 'word': 'In', 'lemma': 'in', 'tag': 'IN', 'head': 4, 'rel': 'mark', 'start': 0, 'end': 1}\n",
      "{'address': 4, 'word': 'provide', 'lemma': 'provide', 'tag': 'VB', 'head': 0, 'rel': 'ROOT', 'start': 12, 'end': 18}\n",
      "{'address': 2, 'word': 'order', 'lemma': 'order', 'tag': 'NN', 'head': 1, 'rel': 'mwe', 'start': 3, 'end': 7}\n",
      "{'address': 3, 'word': 'to', 'lemma': 'to', 'tag': 'TO', 'head': 4, 'rel': 'mark', 'start': 9, 'end': 10}\n",
      "{'address': 5, 'word': 'information', 'lemma': 'information', 'tag': 'NN', 'head': 4, 'rel': 'dobj', 'start': 20, 'end': 30}\n",
      "{'address': 6, 'word': 'for', 'lemma': 'for', 'tag': 'IN', 'head': 11, 'rel': 'case', 'start': 32, 'end': 34}\n",
      "{'address': 11, 'word': 'labeling', 'lemma': 'labeling', 'tag': 'NN', 'head': 5, 'rel': 'nmod', 'start': 67, 'end': 74}\n",
      "{'address': 7, 'word': 'the', 'lemma': 'the', 'tag': 'DT', 'head': 11, 'rel': 'det', 'start': 36, 'end': 38}\n",
      "{'address': 8, 'word': 'appropriate', 'lemma': 'appropriate', 'tag': 'JJ', 'head': 11, 'rel': 'amod', 'start': 40, 'end': 50}\n",
      "{'address': 9, 'word': 'package', 'lemma': 'package', 'tag': 'NN', 'head': 11, 'rel': 'compound', 'start': 52, 'end': 58}\n",
      "{'address': 10, 'word': 'insert', 'lemma': 'insert', 'tag': 'NN', 'head': 11, 'rel': 'compound', 'start': 60, 'end': 65}\n",
      "{'address': 12, 'word': 'of', 'lemma': 'of', 'tag': 'IN', 'head': 15, 'rel': 'case', 'start': 76, 'end': 77}\n",
      "{'address': 15, 'word': 'contraceptives', 'lemma': 'contraceptive', 'tag': 'NNS', 'head': 11, 'rel': 'nmod', 'start': 99, 'end': 112}\n",
      "{'address': 13, 'word': 'progestin-only', 'lemma': 'progestin-only', 'tag': 'JJ', 'head': 15, 'rel': 'amod', 'start': 79, 'end': 92}\n",
      "{'address': 14, 'word': 'oral', 'lemma': 'oral', 'tag': 'JJ', 'head': 15, 'rel': 'amod', 'start': 94, 'end': 97}\n",
      "{'address': 16, 'word': '-LRB-', 'lemma': '-lrb-', 'tag': '-LRB-', 'head': 17, 'rel': 'punct', 'start': -1, 'end': 3}\n",
      "{'address': 17, 'word': 'POC', 'lemma': 'poc', 'tag': 'NN', 'head': 15, 'rel': 'appos', 'start': 115, 'end': 117}\n",
      "{'address': 18, 'word': '-RRB-', 'lemma': '-rrb-', 'tag': '-RRB-', 'head': 17, 'rel': 'punct', 'start': -1, 'end': 3}\n",
      "{'address': 19, 'word': 'in', 'lemma': 'in', 'tag': 'IN', 'head': 21, 'rel': 'case', 'start': 20, 'end': 21}\n",
      "{'address': 21, 'word': 'US', 'lemma': 'US', 'tag': 'NNP', 'head': 15, 'rel': 'nmod', 'start': 127, 'end': 128}\n",
      "{'address': 20, 'word': 'the', 'lemma': 'the', 'tag': 'DT', 'head': 21, 'rel': 'det', 'start': 36, 'end': 38}\n",
      "{'address': 22, 'word': ',', 'lemma': ',', 'tag': ',', 'head': 11, 'rel': 'punct', 'start': 129, 'end': 129}\n",
      "{'address': 23, 'word': 'a', 'lemma': 'a', 'tag': 'DT', 'head': 25, 'rel': 'det', 'start': 131, 'end': 131}\n",
      "{'address': 25, 'word': 'review', 'lemma': 'review', 'tag': 'NN', 'head': 27, 'rel': 'nsubjpass', 'start': 147, 'end': 152}\n",
      "{'address': 24, 'word': 'comprehensive', 'lemma': 'comprehensive', 'tag': 'JJ', 'head': 25, 'rel': 'amod', 'start': 133, 'end': 145}\n",
      "{'address': 27, 'word': 'made', 'lemma': 'make', 'tag': 'VBN', 'head': 11, 'rel': 'acl:relcl', 'start': 158, 'end': 161}\n",
      "{'address': 26, 'word': 'was', 'lemma': 'be', 'tag': 'VBD', 'head': 27, 'rel': 'auxpass', 'start': 154, 'end': 156}\n",
      "{'address': 28, 'word': 'of', 'lemma': 'of', 'tag': 'IN', 'head': 29, 'rel': 'case', 'start': 163, 'end': 164}\n",
      "{'address': 29, 'word': 'norgestrel', 'lemma': 'norgestrel', 'tag': 'NN', 'head': 27, 'rel': 'nmod', 'start': 166, 'end': 175}\n",
      "{'address': 30, 'word': '-LRB-', 'lemma': '-lrb-', 'tag': '-LRB-', 'head': 32, 'rel': 'punct', 'start': -1, 'end': 3}\n",
      "{'address': 32, 'word': 'mg', 'lemma': 'mg', 'tag': 'NN', 'head': 29, 'rel': 'appos', 'start': 184, 'end': 185}\n",
      "{'address': 31, 'word': '0.075', 'lemma': '0.075', 'tag': 'CD', 'head': 32, 'rel': 'nummod', 'start': 178, 'end': 182}\n",
      "{'address': 33, 'word': '-RRB-', 'lemma': '-rrb-', 'tag': '-RRB-', 'head': 32, 'rel': 'punct', 'start': -1, 'end': 3}\n",
      "{'address': 34, 'word': 'and', 'lemma': 'and', 'tag': 'CC', 'head': 29, 'rel': 'cc', 'start': 188, 'end': 190}\n",
      "{'address': 35, 'word': 'norethindrone', 'lemma': 'norethindrone', 'tag': 'NN', 'head': 29, 'rel': 'conj', 'start': 192, 'end': 204}\n",
      "{'address': 36, 'word': '-LRB-', 'lemma': '-lrb-', 'tag': '-LRB-', 'head': 38, 'rel': 'punct', 'start': -1, 'end': 3}\n",
      "{'address': 38, 'word': 'mg', 'lemma': 'mg', 'tag': 'NN', 'head': 35, 'rel': 'appos', 'start': 212, 'end': 213}\n",
      "{'address': 37, 'word': '0.35', 'lemma': '0.35', 'tag': 'CD', 'head': 38, 'rel': 'nummod', 'start': 207, 'end': 210}\n",
      "{'address': 39, 'word': '-RRB-', 'lemma': '-rrb-', 'tag': '-RRB-', 'head': 38, 'rel': 'punct', 'start': -1, 'end': 3}\n",
      "{'address': 40, 'word': ',', 'lemma': ',', 'tag': ',', 'head': 11, 'rel': 'punct', 'start': 129, 'end': 129}\n",
      "{'address': 41, 'word': 'with', 'lemma': 'with', 'tag': 'IN', 'head': 44, 'rel': 'case', 'start': 217, 'end': 220}\n",
      "{'address': 44, 'word': 'differences', 'lemma': 'difference', 'tag': 'NNS', 'head': 11, 'rel': 'nmod', 'start': 235, 'end': 245}\n",
      "{'address': 42, 'word': 'the', 'lemma': 'the', 'tag': 'DT', 'head': 44, 'rel': 'det', 'start': 222, 'end': 224}\n",
      "{'address': 43, 'word': 'clinical', 'lemma': 'clinical', 'tag': 'JJ', 'head': 44, 'rel': 'amod', 'start': 226, 'end': 233}\n",
      "{'address': 45, 'word': 'indicated', 'lemma': 'indicate', 'tag': 'VBD', 'head': 44, 'rel': 'acl', 'start': 247, 'end': 255}\n",
      "{'address': 46, 'word': 'where', 'lemma': 'where', 'tag': 'WRB', 'head': 47, 'rel': 'advmod', 'start': 257, 'end': 261}\n",
      "{'address': 47, 'word': 'applicable', 'lemma': 'applicable', 'tag': 'JJ', 'head': 45, 'rel': 'advcl', 'start': 263, 'end': 272}\n",
      "{'address': 48, 'word': '.', 'lemma': '.', 'tag': '.', 'head': 4, 'rel': 'punct', 'start': 273, 'end': 273}\n"
     ]
    },
    {
     "ename": "NameError",
     "evalue": "name 'type_rel' is not defined",
     "output_type": "error",
     "traceback": [
      "\u001b[1;31m---------------------------------------------------------------------------\u001b[0m",
      "\u001b[1;31mNameError\u001b[0m                                 Traceback (most recent call last)",
      "\u001b[1;32m<ipython-input-34-04373fa7b6ba>\u001b[0m in \u001b[0;36m<module>\u001b[1;34m\u001b[0m\n\u001b[1;32m----> 1\u001b[1;33m \u001b[0mmain_extract_features\u001b[0m\u001b[1;33m(\u001b[0m\u001b[0mtrain_path\u001b[0m\u001b[1;33m,\u001b[0m \u001b[1;34m'train_feature_vectors'\u001b[0m\u001b[1;33m)\u001b[0m\u001b[1;33m\u001b[0m\u001b[1;33m\u001b[0m\u001b[0m\n\u001b[0m\u001b[0;32m      2\u001b[0m \u001b[0mmain_extract_features\u001b[0m\u001b[1;33m(\u001b[0m\u001b[0mdevel_path\u001b[0m\u001b[1;33m,\u001b[0m \u001b[1;34m'devel_feature_vectors'\u001b[0m\u001b[1;33m)\u001b[0m\u001b[1;33m\u001b[0m\u001b[1;33m\u001b[0m\u001b[0m\n\u001b[0;32m      3\u001b[0m \u001b[0mmain_extract_features\u001b[0m\u001b[1;33m(\u001b[0m\u001b[0mtest_path\u001b[0m\u001b[1;33m,\u001b[0m \u001b[1;34m'test_feature_vectors'\u001b[0m\u001b[1;33m)\u001b[0m\u001b[1;33m\u001b[0m\u001b[1;33m\u001b[0m\u001b[0m\n",
      "\u001b[1;32m<ipython-input-33-c65874ce348a>\u001b[0m in \u001b[0;36mmain_extract_features\u001b[1;34m(inputdir, outputfile)\u001b[0m\n\u001b[0;32m     27\u001b[0m \u001b[1;33m\u001b[0m\u001b[0m\n\u001b[0;32m     28\u001b[0m                 \u001b[0mfeatures\u001b[0m \u001b[1;33m=\u001b[0m \u001b[0mextract_features\u001b[0m\u001b[1;33m(\u001b[0m\u001b[0mtree\u001b[0m\u001b[1;33m,\u001b[0m \u001b[0mentities\u001b[0m\u001b[1;33m,\u001b[0m \u001b[0me1\u001b[0m\u001b[1;33m,\u001b[0m\u001b[0me2\u001b[0m\u001b[1;33m)\u001b[0m\u001b[1;33m\u001b[0m\u001b[1;33m\u001b[0m\u001b[0m\n\u001b[1;32m---> 29\u001b[1;33m                 \u001b[0moutput_features\u001b[0m\u001b[1;33m(\u001b[0m\u001b[0msent_id\u001b[0m\u001b[1;33m,\u001b[0m \u001b[0me1\u001b[0m\u001b[1;33m,\u001b[0m \u001b[0me2\u001b[0m\u001b[1;33m,\u001b[0m \u001b[0mtype_rel\u001b[0m\u001b[1;33m,\u001b[0m \u001b[0mfeatures\u001b[0m\u001b[1;33m)\u001b[0m\u001b[1;33m\u001b[0m\u001b[1;33m\u001b[0m\u001b[0m\n\u001b[0m\u001b[0;32m     30\u001b[0m \u001b[1;33m\u001b[0m\u001b[0m\n\u001b[0;32m     31\u001b[0m     \u001b[0moutf\u001b[0m\u001b[1;33m.\u001b[0m\u001b[0mclose\u001b[0m\u001b[1;33m(\u001b[0m\u001b[1;33m)\u001b[0m\u001b[1;33m\u001b[0m\u001b[1;33m\u001b[0m\u001b[0m\n",
      "\u001b[1;31mNameError\u001b[0m: name 'type_rel' is not defined"
     ]
    }
   ],
   "source": [
    "main_extract_features(train_path, 'train_feature_vectors')\n",
    "main_extract_features(devel_path, 'devel_feature_vectors')\n",
    "main_extract_features(test_path, 'test_feature_vectors')"
   ]
  },
  {
   "cell_type": "markdown",
   "metadata": {},
   "source": [
    "## MaxEntropy Classifier\n",
    "### Learner"
   ]
  },
  {
   "cell_type": "code",
   "execution_count": 17,
   "metadata": {},
   "outputs": [],
   "source": [
    "def read_features_and_classes(inputfile):\n",
    "    features = []\n",
    "    classes = []\n",
    "    prev_sent_id = ''\n",
    "    with open(inputfile) as f:\n",
    "        for i, line in enumerate(f):\n",
    "            saved_features = line.split()\n",
    "            sent_id = saved_features[0]\n",
    "            \n",
    "            if i == 0:\n",
    "                feature_vector = []\n",
    "                classes_vector = []\n",
    "                feature_vector.append(saved_features[5:])\n",
    "                classes_vector.append(saved_features[4])\n",
    "            \n",
    "            elif sent_id == prev_sent_id:\n",
    "                feature_vector.append(saved_features[5:])\n",
    "                classes_vector.append(saved_features[4])\n",
    "            \n",
    "            else:\n",
    "                features.append(feature_vector)\n",
    "                classes.append(classes_vector)\n",
    "                feature_vector = []\n",
    "                classes_vector = []\n",
    "            \n",
    "            prev_sent_id = sent_id\n",
    "    \n",
    "    return features, classes               "
   ]
  },
  {
   "cell_type": "code",
   "execution_count": 18,
   "metadata": {},
   "outputs": [],
   "source": [
    "def train(features_file, model_name):\n",
    "    # Get features of train data\n",
    "    features_train, gs_train = read_features_and_classes(features_file)\n",
    "    numIterations = 100\n",
    " \n",
    "    algorithm = nltk.classify.MaxentClassifier.ALGORITHMS[0]\n",
    "    classifier = nltk.MaxentClassifier.train(features_train, algorithm, max_iter=numIterations)\n",
    "    classifier.show_most_informative_features(10)\n",
    "\n",
    "    \n",
    "    return"
   ]
  },
  {
   "cell_type": "code",
   "execution_count": null,
   "metadata": {},
   "outputs": [],
   "source": [
    "train('train_feature_vectors', 'ml_model.megam')"
   ]
  },
  {
   "cell_type": "markdown",
   "metadata": {},
   "source": [
    "### Classifier"
   ]
  },
  {
   "cell_type": "code",
   "execution_count": null,
   "metadata": {},
   "outputs": [],
   "source": []
  }
 ],
 "metadata": {
  "kernelspec": {
   "display_name": "Python 3",
   "language": "python",
   "name": "python3"
  },
  "language_info": {
   "codemirror_mode": {
    "name": "ipython",
    "version": 3
   },
   "file_extension": ".py",
   "mimetype": "text/x-python",
   "name": "python",
   "nbconvert_exporter": "python",
   "pygments_lexer": "ipython3",
   "version": "3.7.3"
  }
 },
 "nbformat": 4,
 "nbformat_minor": 2
}
