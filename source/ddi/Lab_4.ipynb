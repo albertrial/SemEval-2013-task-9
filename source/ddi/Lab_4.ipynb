{
 "cells": [
  {
   "cell_type": "markdown",
   "metadata": {},
   "source": [
    "## Lab 4: DDI using ML\n",
    "\n",
    "### Imports"
   ]
  },
  {
   "cell_type": "code",
   "execution_count": 1,
   "metadata": {},
   "outputs": [],
   "source": [
    "import os\n",
    "import nltk\n",
    "import re\n",
    "from nltk.tokenize import word_tokenize\n",
    "from nltk.parse.corenlp import CoreNLPDependencyParser\n",
    "from nltk.corpus import stopwords \n",
    "import xml.etree.ElementTree as ET"
   ]
  },
  {
   "cell_type": "markdown",
   "metadata": {},
   "source": [
    "### Variables"
   ]
  },
  {
   "cell_type": "code",
   "execution_count": 2,
   "metadata": {},
   "outputs": [],
   "source": [
    "devel_path = '../../data/Devel'\n",
    "test_path = '../../data/Test-DDI'\n",
    "train_path = '../../data/Train'\n",
    "output_file = 'output/task9.2_develGoal_1.txt'\n",
    "\n",
    "model_path = '/mnt/d/Users/Albert/OneDrive/Educació/Master\\ in\\ Artificial\\ Intelligence\\ \\(UPC\\)/Semester\\ 2/AHLT/Lab/AHLT-MAI/source/ddi/model/'\n",
    "output_path = '/mnt/d/Users/Albert/OneDrive/Educació/Master\\ in\\ Artificial\\ Intelligence\\ \\(UPC\\)/Semester\\ 2/AHLT/Lab/AHLT-MAI/source/ddi/output/'\n",
    "features_path = '/mnt/d/Users/Albert/OneDrive/Educació/Master\\ in\\ Artificial\\ Intelligence\\ \\(UPC\\)/Semester\\ 2/AHLT/Lab/AHLT-MAI/source/ddi/features/'\n",
    "\n",
    "my_parser = CoreNLPDependencyParser(url=\"http://localhost:9000\")"
   ]
  },
  {
   "cell_type": "markdown",
   "metadata": {},
   "source": [
    "### Feature extractor"
   ]
  },
  {
   "cell_type": "code",
   "execution_count": 3,
   "metadata": {},
   "outputs": [],
   "source": [
    "def analyze(sent):\n",
    "    if len(sent)<= 0:\n",
    "        return None\n",
    "    \n",
    "    mytree, = my_parser.raw_parse(sent)\n",
    "    tree = mytree.nodes\n",
    "    ini_token = 0\n",
    "                   \n",
    "    # clean tree\n",
    "    info = ['address', 'head', 'lemma', 'rel', 'word', 'tag']\n",
    "    for k in range(len(tree)):\n",
    "        node = tree[k] \n",
    "        for key in list(node):\n",
    "            if key not in info:\n",
    "                del node[key]\n",
    "        \n",
    "        if k != 0:\n",
    "            # add offsets\n",
    "            ini_token = sent.find(node['word'] ,ini_token)\n",
    "            node['start'] = ini_token\n",
    "            ini_token += len(node['word'])\n",
    "            node['end'] = ini_token - 1\n",
    "            \n",
    "    return tree"
   ]
  },
  {
   "cell_type": "code",
   "execution_count": 4,
   "metadata": {},
   "outputs": [],
   "source": [
    "def get_entity_nodes(tree, entities, e1, e2):\n",
    "    entity1 = []\n",
    "    entity2 = []\n",
    "    for key in tree.keys():\n",
    "        if 'start' in tree[key].keys() and (str(tree[key]['start']) == str(entities[e1][0]) or str(tree[key]['end']) == str(entities[e1][1])):\n",
    "            entity1.append(tree[key])\n",
    "        elif 'start' in tree[key].keys() and (str(tree[key]['start']) == str(entities[e2][0]) or str(tree[key]['end']) == str(entities[e2][1])):\n",
    "            entity2.append(tree[key])\n",
    "    return entity1, entity2\n",
    "\n",
    "\n",
    "def extract_features(tree, entities, e1, e2):\n",
    "    # Get entities\n",
    "    entity1, entity2 = get_entity_nodes(tree, entities, e1, e2)\n",
    "    \n",
    "    # Features\n",
    "    features = []\n",
    "    \n",
    "    for i in range(len(entity1)):\n",
    "        if entity1[i]['head'] != 0:\n",
    "            features.extend(['h1_lemma_%s=%s' % (str(i), tree[entity1[i]['head']]['lemma']),\n",
    "                             'h1_word_%s=%s' % (str(i), tree[entity1[i]['head']]['word']),\n",
    "                             'h1_tag_%s=%s' % (str(i), tree[entity1[i]['head']]['tag']),\n",
    "                             'h1_address_%s=%s' % (str(i), tree[entity1[i]['head']]['address']),\n",
    "                            ])\n",
    "            \n",
    "        features.append('e1_rel_%s=%s' % (str(i), entity1[i]['rel']))\n",
    "            \n",
    "    for i in range(len(entity2)):\n",
    "        if entity2[i]['head'] != 0:\n",
    "            features.extend(['h2_lemma_%s=%s' % (str(i), tree[entity2[i]['head']]['lemma']),\n",
    "                             'h2_word_%s=%s' % (str(i), tree[entity2[i]['head']]['word']),\n",
    "                             'h2_tag_%s=%s' % (str(i), tree[entity2[i]['head']]['tag']),\n",
    "                             'h2_address_%s=%s' % (str(i), tree[entity2[i]['head']]['address']),\n",
    "                            ])\n",
    "        features.append('e2_rel_%s=%s' % (str(i), entity2[i]['rel']))\n",
    "      \n",
    "    return features"
   ]
  },
  {
   "cell_type": "code",
   "execution_count": 5,
   "metadata": {},
   "outputs": [],
   "source": [
    "def output_features(sent_id, e1, e2, gold_class, features, extra_info_outf, outf):\n",
    "    features_str = '\\t'.join(features)\n",
    "    outf.write(gold_class+'\\t'+features_str)\n",
    "    outf.write(\"\\n\")\n",
    "    extra_info_outf.write(sent_id+'\\t'+e1+'\\t'+e2+'\\t'+gold_class+'\\t'+features_str)\n",
    "    extra_info_outf.write(\"\\n\")"
   ]
  },
  {
   "cell_type": "code",
   "execution_count": 6,
   "metadata": {},
   "outputs": [],
   "source": [
    "def main_extract_features(input_dir, extra_info_output_file, output_file):\n",
    "    outf = open(output_file, \"w\")\n",
    "    extra_info_outf = open(extra_info_output_file, \"w\")\n",
    "    # process each file in directory\n",
    "    for filename in os.listdir(input_dir):  \n",
    "        # parse XML file, obtaining a DOM tree\n",
    "        fullname = os.path.join(input_dir, filename)\n",
    "        tree = ET.parse(fullname)\n",
    "        root = tree.getroot()    \n",
    "        \n",
    "        # process each sentence in the file\n",
    "        for sentence in root.findall('sentence'):\n",
    "            sent_id = sentence.get('id')\n",
    "            \n",
    "            # load sentence entities into a dictionary\n",
    "            entities = {}\n",
    "            for ent in sentence.findall('entity'):\n",
    "                ent_id = ent.get('id') \n",
    "                offs = ent.get('charOffset').split('-')\n",
    "                entities[ent_id] = offs\n",
    "            \n",
    "            tree = analyze(sentence.get('text'))\n",
    "            # for each pair in the sentence, decide whether it is DDI and its type\n",
    "            for pair in sentence.findall('pair'):\n",
    "                e1 = pair.get('e1')\n",
    "                e2 = pair.get('e2')\n",
    "                \n",
    "                gold_class = pair.get('type')\n",
    "                if gold_class is None:\n",
    "                    gold_class = 'null'\n",
    "            \n",
    "                features = extract_features(tree, entities, e1, e2)\n",
    "                output_features(sent_id, e1, e2, gold_class, features, extra_info_outf, outf)\n",
    "    outf.close()\n",
    "    extra_info_outf.close()\n",
    "    return"
   ]
  },
  {
   "cell_type": "code",
   "execution_count": 7,
   "metadata": {},
   "outputs": [],
   "source": [
    "main_extract_features(train_path, 'features/info_train_features', 'features/train_features')\n",
    "main_extract_features(devel_path, 'features/info_devel_features', 'features/devel_features')\n",
    "main_extract_features(test_path, 'features/info_test_features', 'features/test_features')"
   ]
  },
  {
   "cell_type": "markdown",
   "metadata": {},
   "source": [
    "## MaxEntropy Classifier\n",
    "### Learner"
   ]
  },
  {
   "cell_type": "code",
   "execution_count": 8,
   "metadata": {},
   "outputs": [],
   "source": [
    "def train(megam, features_file, out_train_model):\n",
    "    print(\"ubuntu run \\\"\"+ megam + \" -quiet -nc -nobias multiclass \" + features_file + \" > \" + out_train_model + \"\\\"\")\n",
    "    os.system(\"ubuntu run \\\"\"+ megam + \" -quiet -nc -nobias multiclass \" + features_file + \" > \" + out_train_model + \"\\\"\")\n",
    "    return"
   ]
  },
  {
   "cell_type": "code",
   "execution_count": 9,
   "metadata": {},
   "outputs": [
    {
     "name": "stdout",
     "output_type": "stream",
     "text": [
      "ubuntu run \"/mnt/d/Users/Albert/OneDrive/Educació/Master\\ in\\ Artificial\\ Intelligence\\ \\(UPC\\)/Semester\\ 2/AHLT/Lab/AHLT-MAI/source/ddi/model/megam-64.opt -quiet -nc -nobias multiclass /mnt/d/Users/Albert/OneDrive/Educació/Master\\ in\\ Artificial\\ Intelligence\\ \\(UPC\\)/Semester\\ 2/AHLT/Lab/AHLT-MAI/source/ddi/features/train_features > /mnt/d/Users/Albert/OneDrive/Educació/Master\\ in\\ Artificial\\ Intelligence\\ \\(UPC\\)/Semester\\ 2/AHLT/Lab/AHLT-MAI/source/ddi/model/model.dat\"\n"
     ]
    }
   ],
   "source": [
    "train(model_path+'megam-64.opt', features_path+'train_features', model_path+'model.dat')"
   ]
  },
  {
   "cell_type": "markdown",
   "metadata": {},
   "source": [
    "### Classifier"
   ]
  },
  {
   "cell_type": "code",
   "execution_count": 10,
   "metadata": {},
   "outputs": [],
   "source": [
    "def classify(megam, features_file, train_model, prediction_output):\n",
    "    print(\"ubuntu run \\\"\"+ megam + \" -quiet -nc -nobias -predict \" + train_model + \" multiclass \" + features_file + \" > \" + prediction_output + \"\\\"\")\n",
    "    os.system(\"ubuntu run \\\"\"+ megam + \" -quiet -nc -nobias -predict \" + train_model + \" multiclass \" + features_file + \" > \" + prediction_output + \"\\\"\")"
   ]
  },
  {
   "cell_type": "code",
   "execution_count": 11,
   "metadata": {},
   "outputs": [
    {
     "name": "stdout",
     "output_type": "stream",
     "text": [
      "ubuntu run \"/mnt/d/Users/Albert/OneDrive/Educació/Master\\ in\\ Artificial\\ Intelligence\\ \\(UPC\\)/Semester\\ 2/AHLT/Lab/AHLT-MAI/source/ddi/model/megam-64.opt -quiet -nc -nobias -predict /mnt/d/Users/Albert/OneDrive/Educació/Master\\ in\\ Artificial\\ Intelligence\\ \\(UPC\\)/Semester\\ 2/AHLT/Lab/AHLT-MAI/source/ddi/model/model.dat multiclass /mnt/d/Users/Albert/OneDrive/Educació/Master\\ in\\ Artificial\\ Intelligence\\ \\(UPC\\)/Semester\\ 2/AHLT/Lab/AHLT-MAI/source/ddi/features/devel_features > /mnt/d/Users/Albert/OneDrive/Educació/Master\\ in\\ Artificial\\ Intelligence\\ \\(UPC\\)/Semester\\ 2/AHLT/Lab/AHLT-MAI/source/ddi/output/devel_prediction\"\n"
     ]
    }
   ],
   "source": [
    "# Devel prediction\n",
    "classify(model_path+'megam-64.opt', features_path+'devel_features', model_path+'model.dat', output_path+'devel_prediction')"
   ]
  },
  {
   "cell_type": "code",
   "execution_count": 16,
   "metadata": {},
   "outputs": [
    {
     "name": "stdout",
     "output_type": "stream",
     "text": [
      "ubuntu run \"/mnt/d/Users/Albert/OneDrive/Educació/Master\\ in\\ Artificial\\ Intelligence\\ \\(UPC\\)/Semester\\ 2/AHLT/Lab/AHLT-MAI/source/ddi/model/megam-64.opt -quiet -nc -nobias -predict /mnt/d/Users/Albert/OneDrive/Educació/Master\\ in\\ Artificial\\ Intelligence\\ \\(UPC\\)/Semester\\ 2/AHLT/Lab/AHLT-MAI/source/ddi/model/model.dat multiclass /mnt/d/Users/Albert/OneDrive/Educació/Master\\ in\\ Artificial\\ Intelligence\\ \\(UPC\\)/Semester\\ 2/AHLT/Lab/AHLT-MAI/source/ddi/features/test_features > /mnt/d/Users/Albert/OneDrive/Educació/Master\\ in\\ Artificial\\ Intelligence\\ \\(UPC\\)/Semester\\ 2/AHLT/Lab/AHLT-MAI/source/ddi/output/test_prediction\"\n"
     ]
    }
   ],
   "source": [
    "# Test prediction\n",
    "classify(model_path+'megam-64.opt', features_path+'test_features', model_path+'model.dat', output_path+'test_prediction')"
   ]
  },
  {
   "cell_type": "markdown",
   "metadata": {},
   "source": [
    "## Produce output and evaluate"
   ]
  },
  {
   "cell_type": "code",
   "execution_count": 17,
   "metadata": {},
   "outputs": [],
   "source": [
    "def output_ddi(sent_id, id_e1, id_e2, predicted_class, outf):\n",
    "    if predicted_class == 'null':\n",
    "        outf.write(sent_id+'|'+id_e1+'|'+id_e2+'|0|'+predicted_class)\n",
    "    else:\n",
    "        outf.write(sent_id+'|'+id_e1+'|'+id_e2+'|1|'+predicted_class)\n",
    "    outf.write(\"\\n\")"
   ]
  },
  {
   "cell_type": "code",
   "execution_count": 18,
   "metadata": {},
   "outputs": [],
   "source": [
    "def evaluate(input_dir, output_file):\n",
    "    os.system(\"java -jar ../../eval/evaluateDDI.jar \"+ str(input_dir) + \" \" + str(output_file))\n",
    "    return "
   ]
  },
  {
   "cell_type": "code",
   "execution_count": 19,
   "metadata": {},
   "outputs": [],
   "source": [
    "def main_function(input_dir, features_info, prediction_file, output_file):\n",
    "    outf = open(output_file, \"w\")\n",
    "    \n",
    "    with open(features_info) as textfile1, open(prediction_file) as textfile2: \n",
    "        for x, y in zip(textfile1, textfile2):\n",
    "            saved_features = x.split('\\t')\n",
    "            sent_id = saved_features[0]\n",
    "            id_e1 = saved_features[1]\n",
    "            id_e2 = saved_features[2]\n",
    "            \n",
    "            predicted_class = y.split()[0]\n",
    "            \n",
    "            output_ddi(sent_id, id_e1, id_e2, predicted_class, outf)\n",
    "    outf.close()\n",
    "    # get performance score\n",
    "    evaluate(input_dir, output_file)"
   ]
  },
  {
   "cell_type": "code",
   "execution_count": 20,
   "metadata": {},
   "outputs": [],
   "source": [
    "#main_function(devel_path, 'features/info_devel_features', 'output/devel_prediction', output_file)"
   ]
  },
  {
   "cell_type": "code",
   "execution_count": 22,
   "metadata": {},
   "outputs": [],
   "source": [
    "main_function(test_path, 'features/info_test_features', 'output/test_prediction', output_file)"
   ]
  },
  {
   "cell_type": "code",
   "execution_count": null,
   "metadata": {},
   "outputs": [],
   "source": []
  }
 ],
 "metadata": {
  "kernelspec": {
   "display_name": "Python 3",
   "language": "python",
   "name": "python3"
  },
  "language_info": {
   "codemirror_mode": {
    "name": "ipython",
    "version": 3
   },
   "file_extension": ".py",
   "mimetype": "text/x-python",
   "name": "python",
   "nbconvert_exporter": "python",
   "pygments_lexer": "ipython3",
   "version": "3.7.4"
  }
 },
 "nbformat": 4,
 "nbformat_minor": 2
}
