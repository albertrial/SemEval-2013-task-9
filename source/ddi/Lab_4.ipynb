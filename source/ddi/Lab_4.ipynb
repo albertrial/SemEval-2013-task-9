{
 "cells": [
  {
   "cell_type": "markdown",
   "metadata": {},
   "source": [
    "## Lab 4: DDI using ML\n",
    "\n",
    "### Imports"
   ]
  },
  {
   "cell_type": "code",
   "execution_count": 12,
   "metadata": {},
   "outputs": [],
   "source": [
    "import os\n",
    "import nltk\n",
    "import re\n",
    "from nltk.tokenize import word_tokenize\n",
    "from nltk.parse.corenlp import CoreNLPDependencyParser\n",
    "from nltk.corpus import stopwords \n",
    "import xml.etree.ElementTree as ET"
   ]
  },
  {
   "cell_type": "markdown",
   "metadata": {},
   "source": [
    "### Variables"
   ]
  },
  {
   "cell_type": "code",
   "execution_count": 13,
   "metadata": {},
   "outputs": [],
   "source": [
    "devel_path = '../../data/Devel'\n",
    "test_path = '../../data/Test-DDI'\n",
    "train_path = '../../data/Train'\n",
    "outputfile = 'task9.2_develGoal_1.txt'\n",
    "\n",
    "my_parser = CoreNLPDependencyParser(url=\"http://localhost:9000\")"
   ]
  },
  {
   "cell_type": "markdown",
   "metadata": {},
   "source": [
    "### Functions"
   ]
  },
  {
   "cell_type": "code",
   "execution_count": 14,
   "metadata": {},
   "outputs": [],
   "source": [
    "def analyze(sent):\n",
    "    if len(sent)<= 0:\n",
    "        return None\n",
    "    \n",
    "    mytree, = my_parser.raw_parse(sent)\n",
    "    tree = mytree.nodes\n",
    "    ini_token = 0\n",
    "                   \n",
    "    # clean tree\n",
    "    info = ['address', 'head', 'lemma', 'rel', 'word', 'tag']\n",
    "    for k in range(len(tree)):\n",
    "        node = tree[k] \n",
    "        for key in list(node):\n",
    "            if key not in info:\n",
    "                del node[key]\n",
    "        \n",
    "        if k != 0:\n",
    "            # add offsets\n",
    "            ini_token = sent.find(node['word'] ,ini_token)\n",
    "            node['start'] = ini_token\n",
    "            ini_token += len(node['word'])\n",
    "            node['end'] = ini_token - 1\n",
    "            \n",
    "    return tree"
   ]
  },
  {
   "cell_type": "code",
   "execution_count": 43,
   "metadata": {},
   "outputs": [],
   "source": [
    "def get_entity_nodes(tree, entities, e1, e2):\n",
    "    entity1 = []\n",
    "    entity2 = []\n",
    "    for key in tree.keys():\n",
    "        if 'start' in tree[key].keys() and (str(tree[key]['start']) == str(entities[e1][0]) or str(tree[key]['end']) == str(entities[e1][1])):\n",
    "            entity1.append(tree[key])\n",
    "        elif 'start' in tree[key].keys() and (str(tree[key]['start']) == str(entities[e2][0]) or str(tree[key]['end']) == str(entities[e2][1])):\n",
    "            entity2.append(tree[key])\n",
    "    return entity1, entity2\n",
    "\n",
    "def extract_features(tree, entities, e1, e2):\n",
    "    # Get entities\n",
    "    entity1, entity2 = get_entity_nodes(tree, entities, e1, e2)\n",
    "    \n",
    "    # Features\n",
    "    features = []\n",
    "    \n",
    "    for i in range(len(entity1)):\n",
    "        if entity1[i]['head'] != 0:\n",
    "            features.extend(['h1_lemma_%s=%s' % (str(i), tree[entity1[i]['head']]['lemma']),\n",
    "                             'h1_word_%s=%s' % (str(i), tree[entity1[i]['head']]['word']),\n",
    "                             'h1_tag_%s=%s' % (str(i), tree[entity1[i]['head']]['tag']),\n",
    "                             'h1_address_%s=%s' % (str(i), tree[entity1[i]['head']]['address']),\n",
    "                            ])\n",
    "            \n",
    "        features.append('e1_rel_%s=%s' % (str(i), entity1[i]['rel']))\n",
    "            \n",
    "    for i in range(len(entity2)):\n",
    "        if entity2[i]['head'] != 0:\n",
    "            features.extend(['h2_lemma_%s=%s' % (str(i), tree[entity2[i]['head']]['lemma']),\n",
    "                             'h2_word_%s=%s' % (str(i), tree[entity2[i]['head']]['word']),\n",
    "                             'h2_tag_%s=%s' % (str(i), tree[entity2[i]['head']]['tag']),\n",
    "                             'h2_address_%s=%s' % (str(i), tree[entity2[i]['head']]['address']),\n",
    "                            ])\n",
    "        features.append('e2_rel_%s=%s' % (str(i), entity2[i]['rel']))\n",
    "      \n",
    "    return features"
   ]
  },
  {
   "cell_type": "code",
   "execution_count": 44,
   "metadata": {},
   "outputs": [],
   "source": [
    "def output_features(sent_id, e1, e2, gold_class, features, outf):\n",
    "    features_str = ' '.join(features)\n",
    "    outf.write(sent_id+'\\t'+e1+'\\t'+e2+'\\t'+gold_class+'\\t'+features_str)\n",
    "    outf.write(\"\\n\")"
   ]
  },
  {
   "cell_type": "code",
   "execution_count": 45,
   "metadata": {},
   "outputs": [],
   "source": [
    "def main_extract_features(inputdir, outputfile):\n",
    "    outf = open(outputfile, \"w\")\n",
    "    # process each file in directory\n",
    "    for filename in os.listdir(inputdir):  \n",
    "        # parse XML file, obtaining a DOM tree\n",
    "        fullname = os.path.join(inputdir, filename)\n",
    "        tree = ET.parse(fullname)\n",
    "        root = tree.getroot()    \n",
    "        \n",
    "        # process each sentence in the file\n",
    "        for sentence in root.findall('sentence'):\n",
    "            sent_id = sentence.get('id')\n",
    "            \n",
    "            # load sentence entities into a dictionary\n",
    "            entities = {}\n",
    "            for ent in sentence.findall('entity'):\n",
    "                ent_id = ent.get('id') \n",
    "                offs = ent.get('charOffset').split('-')\n",
    "                entities[ent_id] = offs\n",
    "            \n",
    "            tree = analyze(sentence.get('text'))\n",
    "            # for each pair in the sentence, decide whether it is DDI and its type\n",
    "            for pair in sentence.findall('pair'):\n",
    "                e1 = pair.get('e1')\n",
    "                e2 = pair.get('e2')\n",
    "                \n",
    "                gold_class = pair.get('type')\n",
    "                if gold_class is None:\n",
    "                    gold_class = 'null'\n",
    "            \n",
    "                features = extract_features(tree, entities, e1,e2)\n",
    "                output_features(sent_id, e1, e2, gold_class, features, outf)\n",
    "    outf.close()\n",
    "    return"
   ]
  },
  {
   "cell_type": "code",
   "execution_count": 46,
   "metadata": {},
   "outputs": [],
   "source": [
    "main_extract_features(train_path, 'train_feature_vectors')\n",
    "main_extract_features(devel_path, 'devel_feature_vectors')\n",
    "main_extract_features(test_path, 'test_feature_vectors')"
   ]
  },
  {
   "cell_type": "markdown",
   "metadata": {},
   "source": [
    "## MaxEntropy Classifier\n",
    "### Learner"
   ]
  },
  {
   "cell_type": "code",
   "execution_count": 17,
   "metadata": {},
   "outputs": [],
   "source": [
    "def read_features_and_classes(inputfile):\n",
    "    features = []\n",
    "    classes = []\n",
    "    prev_sent_id = ''\n",
    "    with open(inputfile) as f:\n",
    "        for i, line in enumerate(f):\n",
    "            saved_features = line.split()\n",
    "            sent_id = saved_features[0]\n",
    "            \n",
    "            if i == 0:\n",
    "                feature_vector = []\n",
    "                classes_vector = []\n",
    "                feature_vector.append(saved_features[5:])\n",
    "                classes_vector.append(saved_features[4])\n",
    "            \n",
    "            elif sent_id == prev_sent_id:\n",
    "                feature_vector.append(saved_features[5:])\n",
    "                classes_vector.append(saved_features[4])\n",
    "            \n",
    "            else:\n",
    "                features.append(feature_vector)\n",
    "                classes.append(classes_vector)\n",
    "                feature_vector = []\n",
    "                classes_vector = []\n",
    "            \n",
    "            prev_sent_id = sent_id\n",
    "    \n",
    "    return features, classes               "
   ]
  },
  {
   "cell_type": "code",
   "execution_count": 18,
   "metadata": {},
   "outputs": [],
   "source": [
    "def train(features_file, model_name):\n",
    "    # Get features of train data\n",
    "    features_train, gs_train = read_features_and_classes(features_file)\n",
    "    numIterations = 100\n",
    " \n",
    "    algorithm = nltk.classify.MaxentClassifier.ALGORITHMS[0]\n",
    "    classifier = nltk.MaxentClassifier.train(features_train, algorithm, max_iter=numIterations)\n",
    "    classifier.show_most_informative_features(10)\n",
    "\n",
    "    \n",
    "    return"
   ]
  },
  {
   "cell_type": "code",
   "execution_count": null,
   "metadata": {},
   "outputs": [],
   "source": [
    "train('train_feature_vectors', 'ml_model.megam')"
   ]
  },
  {
   "cell_type": "markdown",
   "metadata": {},
   "source": [
    "### Classifier"
   ]
  },
  {
   "cell_type": "code",
   "execution_count": null,
   "metadata": {},
   "outputs": [],
   "source": []
  }
 ],
 "metadata": {
  "kernelspec": {
   "display_name": "Python 3",
   "language": "python",
   "name": "python3"
  },
  "language_info": {
   "codemirror_mode": {
    "name": "ipython",
    "version": 3
   },
   "file_extension": ".py",
   "mimetype": "text/x-python",
   "name": "python",
   "nbconvert_exporter": "python",
   "pygments_lexer": "ipython3",
   "version": "3.7.4"
  }
 },
 "nbformat": 4,
 "nbformat_minor": 2
}
