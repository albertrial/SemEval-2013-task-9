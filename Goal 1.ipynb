{
 "cells": [
  {
   "cell_type": "markdown",
   "metadata": {},
   "source": [
    "# Lab1\n",
    "\n",
    "### Imports "
   ]
  },
  {
   "cell_type": "code",
   "execution_count": 7,
   "metadata": {},
   "outputs": [],
   "source": [
    "import os\n",
    "import nltk\n",
    "import re\n",
    "from nltk.tokenize import word_tokenize\n",
    "from nltk.corpus import stopwords \n",
    "import xml.etree.ElementTree as ET "
   ]
  },
  {
   "cell_type": "markdown",
   "metadata": {},
   "source": [
    "### Variables"
   ]
  },
  {
   "cell_type": "code",
   "execution_count": 11,
   "metadata": {},
   "outputs": [],
   "source": [
    "inputdir = \"data\\Devel\"\n",
    "test_path = 'data/Test-NER'"
   ]
  },
  {
   "cell_type": "markdown",
   "metadata": {},
   "source": [
    "### Functions"
   ]
  },
  {
   "cell_type": "code",
   "execution_count": 9,
   "metadata": {},
   "outputs": [],
   "source": [
    "def tokenize(text): \n",
    "    list_tokens = []\n",
    "    tokens = word_tokenize(text)\n",
    "    ini_token = 0\n",
    "    for token in tokens:\n",
    "        ini_token = text.find(token, ini_token)\n",
    "        list_tokens.append((token, ini_token, ini_token+len(token)-1))\n",
    "        ini_token += len(token)\n",
    "        \n",
    "    return list_tokens\n",
    "\n",
    "def extract_entities(tokens):\n",
    "    entities = []\n",
    "    prev_drug = \"\"\n",
    "    \n",
    "    for i in range(len(tokens)):\n",
    "        token = tokens[i]\n",
    "        word = token[0]\n",
    "        \n",
    "        # Prefix and sufix rules\n",
    "        drug_prefixes = ('pheny', 'digox', 'warfa', 'meth', 'theophy', 'lith', 'keto', 'cime', 'insu', 'fluox', 'alcoh', 'cyclos', 'eryth', 'carba', 'rifa', 'caffe')\n",
    "        drug_sufixes = ('pitant', 'dine', 'azole', 'mide', 'pine', 'line', 'mine', 'tine', 'arin', 'avir', 'azem', 'rine', 'rone', 'arbital', 'olol', 'afil', 'inol', 'zolam')\n",
    "        \n",
    "        group_prefixes = ('benzo', 'beta', 'antico', 'antide', 'antibi', 'antihi', 'nsai', 'contra')\n",
    "        group_sufixes = ('steroids','tics', 'ants', 'ents', 'tors', 'acid', 'acids', 'ceptives', 'gens', 'pines', 'lines', 'mines')\n",
    "        \n",
    "        brand_prefixes = ('aspi', 'accu', 'beza', 'star', 'exja')\n",
    "        brand_sufixes = ('tane', 'dine', 'anil')\n",
    "        \n",
    "        drug_n_prefixes = ('ibog', 'endo')\n",
    "        drug_n_sufixes = ('ate', 'sin', 'toxin', 'orfon')\n",
    "        \n",
    "        if word.lower().startswith(drug_prefixes) or word.lower().endswith(drug_sufixes):\n",
    "            entities.append({'name':word, 'offset': str(token[1])+'-'+str(token[2]),'type':'drug'})\n",
    "            prev_drug = str(word)+ \" \"+str(token[1])+\" \"+\"drug\"\n",
    "            \n",
    "        elif word.lower().startswith(group_prefixes) or word.lower().endswith(group_sufixes):\n",
    "            if prev_drug != '':\n",
    "                info = prev_drug.split(\" \")\n",
    "                if len(entities) > 0 and info[2]=='group':\n",
    "                    entities.pop()\n",
    "                    entities.append({'name':str(info[0])+word, 'offset': str(info[1])+'-'+str(token[2]),'type':'group'})\n",
    "            else:\n",
    "                entities.append({'name':word, 'offset': str(token[1])+'-'+str(token[2]),'type':'group'})\n",
    "            prev_drug = str(word)+ \" \"+str(token[1])+ \" \"+\"group\"\n",
    "        \n",
    "        elif (word.isupper() and len(word)>4) or word.lower().startswith(brand_prefixes) or word.lower().endswith(brand_sufixes):\n",
    "            entities.append({'name':word, 'offset': str(token[1])+'-'+str(token[2]),'type':'brand'})\n",
    "            prev_drug = str(word)+ \" \"+str(token[1])+ \" \"+ \"brand\"\n",
    "        \n",
    "        elif word.isupper() or word.lower().startswith(drug_n_prefixes) or word.lower().endswith(drug_n_prefixes)\\\n",
    "        or (bool(re.search(r'\\d', word)) and '-' in word):\n",
    "            entities.append({'name':word, 'offset': str(token[1])+'-'+str(token[2]),'type':'drug_n'})\n",
    "            prev_drug = str(word)+ \" \"+str(token[1])+ \" \"+\"drug_n\"\n",
    "        else:\n",
    "            prev_drug = \"\"\n",
    "        \n",
    "    return entities\n",
    "\n",
    "def output_entities(sent_id, ents, outf):\n",
    "    for entity in ents:\n",
    "        outf.write(sent_id+'|'+entity['offset']+'|'+entity['name']+'|'+entity['type'])\n",
    "        outf.write(\"\\n\")\n",
    "    return\n",
    "\n",
    "def evaluate(inputdir, outputfile):\n",
    "    os.system(\"java -jar eval/evaluateNER.jar \"+ str(inputdir) + \" \" + str(outputfile))\n",
    "    return\n",
    "\n",
    "def my_nerc(inputdir, outputfile):\n",
    "    outf = open(outputfile, \"w\")\n",
    "    # Read files and parse files\n",
    "    for filename in os.listdir(inputdir):     \n",
    "        fullname = os.path.join(inputdir, filename)\n",
    "        tree = ET.parse(fullname)\n",
    "        root = tree.getroot()    \n",
    "        \n",
    "        for sentence in root.findall('sentence'):\n",
    "            # Get sentence id and tokenize text\n",
    "            sent_id = sentence.get('id')\n",
    "            tokens = tokenize(sentence.get('text'))\n",
    "            entities = extract_entities(tokens)\n",
    "            output_entities(sent_id, entities, outf)\n",
    "    \n",
    "    outf.close()\n",
    "    evaluate(inputdir, outputfile)\n",
    "    return\n",
    "\n"
   ]
  },
  {
   "cell_type": "code",
   "execution_count": 10,
   "metadata": {},
   "outputs": [],
   "source": [
    "my_nerc(devel_path, 'task9.1_develGoal_1.txt')"
   ]
  },
  {
   "cell_type": "code",
   "execution_count": 12,
   "metadata": {},
   "outputs": [],
   "source": [
    "my_nerc(test_path, 'task9.1_testGoal_1.txt')"
   ]
  },
  {
   "cell_type": "code",
   "execution_count": null,
   "metadata": {},
   "outputs": [],
   "source": []
  }
 ],
 "metadata": {
  "kernelspec": {
   "display_name": "Python 3",
   "language": "python",
   "name": "python3"
  },
  "language_info": {
   "codemirror_mode": {
    "name": "ipython",
    "version": 3
   },
   "file_extension": ".py",
   "mimetype": "text/x-python",
   "name": "python",
   "nbconvert_exporter": "python",
   "pygments_lexer": "ipython3",
   "version": "3.7.3"
  }
 },
 "nbformat": 4,
 "nbformat_minor": 2
}
