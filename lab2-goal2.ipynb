{
 "cells": [
  {
   "cell_type": "markdown",
   "metadata": {},
   "source": [
    "# Lab2\n",
    "\n",
    "### Imports "
   ]
  },
  {
   "cell_type": "code",
   "execution_count": 2,
   "metadata": {},
   "outputs": [],
   "source": [
    "import os\n",
    "import nltk\n",
    "from nltk.tokenize import word_tokenize\n",
    "import xml.etree.ElementTree as ET \n",
    "import pycrfsuite"
   ]
  },
  {
   "cell_type": "markdown",
   "metadata": {},
   "source": [
    "### Paths"
   ]
  },
  {
   "cell_type": "code",
   "execution_count": 3,
   "metadata": {},
   "outputs": [],
   "source": [
    "train_path = 'data/Train'\n",
    "devel_path = 'data/Devel'\n",
    "test_path = 'data/Test-NER'\n",
    "drug_bank_path = \"resources/DrugBank.txt\"\n",
    "HSDB_path = \"resources/HSDB.txt\""
   ]
  },
  {
   "cell_type": "markdown",
   "metadata": {},
   "source": [
    "### Extract drug bank"
   ]
  },
  {
   "cell_type": "code",
   "execution_count": 11,
   "metadata": {},
   "outputs": [],
   "source": [
    "def extract_drug_bank(drug_bank_path):\n",
    "    drug_bank = []\n",
    "    with open(drug_bank_path, encoding=\"utf8\") as f:\n",
    "        for line in f:\n",
    "            data = line.strip().split('|')\n",
    "            drug_bank.append(data[0])\n",
    "    return drug_bank\n",
    "\n",
    "drug_bank = extract_drug_bank(drug_bank_path)"
   ]
  },
  {
   "cell_type": "code",
   "execution_count": 12,
   "metadata": {},
   "outputs": [],
   "source": [
    "def extract_HSDB(HSDB_path):\n",
    "    HSDB = {}\n",
    "    with open(HSDB_path, encoding=\"utf8\") as f:\n",
    "        for line in f:\n",
    "            data = line.strip()\n",
    "            HSDB.append(data)\n",
    "    return HSDB\n",
    "\n",
    "HSDB = extract_drug_bank(HSDB_path)"
   ]
  },
  {
   "cell_type": "markdown",
   "metadata": {},
   "source": [
    "### Feature extractor"
   ]
  },
  {
   "cell_type": "code",
   "execution_count": 13,
   "metadata": {},
   "outputs": [],
   "source": [
    "def tokenize(text): \n",
    "    list_tokens = []\n",
    "    tokens = word_tokenize(text)\n",
    "    ini_token = 0\n",
    "    for token in tokens:\n",
    "        ini_token = text.find(token, ini_token)\n",
    "        list_tokens.append((token, ini_token, ini_token+len(token)-1))\n",
    "        ini_token += len(token)\n",
    "        \n",
    "    return list_tokens"
   ]
  },
  {
   "cell_type": "code",
   "execution_count": 14,
   "metadata": {},
   "outputs": [],
   "source": [
    "def extract_features(tokens):\n",
    "    features = []\n",
    "    \n",
    "    for i in range(len(tokens)):\n",
    "        token = tokens[i]\n",
    "        word = token[0]\n",
    "        \n",
    "        feature_vector = [\n",
    "            'word.lower=' + word.lower(),\n",
    "            'word[-3:]=' + word[-3:],\n",
    "            'word[-2:]=' + word[-2:],\n",
    "            'word.isupper=%s' % word.isupper(),\n",
    "            'word.istitle=%s' % word.istitle(),\n",
    "            'word.isdigit=%s' % word.isdigit()\n",
    "        ]\n",
    "        if i > 0:\n",
    "            word1 = tokens[i-1][0]\n",
    "            feature_vector.extend([\n",
    "                '-1:word.lower=' + word1.lower(),\n",
    "                '-1:word.istitle=%s' % word1.istitle(),\n",
    "                '-1:word.isupper=%s' % word1.isupper()\n",
    "            ])\n",
    "        else:\n",
    "            feature_vector.append('BOS')\n",
    "\n",
    "        if i < len(tokens)-1:\n",
    "            word1 = tokens[i+1][0]\n",
    "            feature_vector.extend([\n",
    "                '+1:word.lower=' + word1.lower(),\n",
    "                '+1:word.istitle=%s' % word1.istitle(),\n",
    "                '+1:word.isupper=%s' % word1.isupper()\n",
    "            ])\n",
    "        else:\n",
    "            feature_vector.append('EOS')\n",
    "            \n",
    "        if word in drug_bank:\n",
    "            feature_vector.append('DRUGBANK')\n",
    "        \n",
    "        if word in HSDB:\n",
    "            feature_vector.append('HSDB')\n",
    "            \n",
    "        features.append(feature_vector)\n",
    "        \n",
    "    return features"
   ]
  },
  {
   "cell_type": "code",
   "execution_count": 15,
   "metadata": {},
   "outputs": [],
   "source": [
    "def output_features(sent_id, tokens, entities, features, outf):\n",
    "    j = 0\n",
    "    for i in range(len(tokens)):\n",
    "        word = tokens[i][0]\n",
    "        features_str = ' '.join(features[i])\n",
    "        \n",
    "        if j < len(entities) and word in entities[j].get('name').split():\n",
    "            entity_name = entities[j].get('name').split()\n",
    "            entity_type = entities[j].get('type').split()\n",
    "            \n",
    "            word_position = entity_name.index(word)\n",
    "            \n",
    "            if word_position == 0:\n",
    "                outf.write(sent_id+' '+word+' '+str(tokens[i][1])+' '+str(tokens[i][2])+' '+'B-'+entities[j].get('type')+' '+features_str)\n",
    "            else:\n",
    "                outf.write(sent_id+' '+word+' '+str(tokens[i][1])+' '+str(tokens[i][2])+' '+'I-'+entities[j].get('type')+' '+features_str)\n",
    "            \n",
    "            if word_position == len(entity_name)-1:\n",
    "                    j+=1\n",
    "                \n",
    "        else:\n",
    "            outf.write(sent_id+' '+word+' '+str(tokens[i][1])+' '+str(tokens[i][2])+' '+'O'+' '+features_str)\n",
    "        outf.write(\"\\n\")"
   ]
  },
  {
   "cell_type": "code",
   "execution_count": 16,
   "metadata": {},
   "outputs": [],
   "source": [
    "def main_extract_features(inputdir, outputfile):\n",
    "    outf = open(outputfile, \"w\")\n",
    "    for filename in os.listdir(inputdir):     \n",
    "        fullname = os.path.join(inputdir, filename)\n",
    "        tree = ET.parse(fullname)\n",
    "        root = tree.getroot()    \n",
    "        \n",
    "        for sentence in root.findall('sentence'):\n",
    "            sent_id = sentence.get('id')\n",
    "            tokens = tokenize(sentence.get('text'))\n",
    "            entities = [{'name':entity.get('text'), 'type':entity.get('type'), 'offset':entity.get('charOffset')}\n",
    "                         for entity in sentence.findall('entity')]\n",
    "            features = extract_features(tokens)\n",
    "            output_features(sent_id, tokens, entities, features, outf)\n",
    "    \n",
    "    outf.close()\n",
    "    return "
   ]
  },
  {
   "cell_type": "code",
   "execution_count": 17,
   "metadata": {},
   "outputs": [],
   "source": [
    "main_extract_features(train_path, 'train_feature_vectors')\n",
    "main_extract_features(devel_path, 'devel_feature_vectors')\n",
    "main_extract_features(test_path, 'test_feature_vectors')"
   ]
  },
  {
   "cell_type": "markdown",
   "metadata": {},
   "source": [
    "### Learner"
   ]
  },
  {
   "cell_type": "code",
   "execution_count": 18,
   "metadata": {},
   "outputs": [],
   "source": [
    "def read_features_and_classes(inputfile):\n",
    "    features = []\n",
    "    classes = []\n",
    "    prev_sent_id = ''\n",
    "    with open(inputfile) as f:\n",
    "        for i, line in enumerate(f):\n",
    "            saved_features = line.split()\n",
    "            sent_id = saved_features[0]\n",
    "            \n",
    "            if i == 0:\n",
    "                feature_vector = []\n",
    "                classes_vector = []\n",
    "                feature_vector.append(saved_features[5:])\n",
    "                classes_vector.append(saved_features[4])\n",
    "            \n",
    "            elif sent_id == prev_sent_id:\n",
    "                feature_vector.append(saved_features[5:])\n",
    "                classes_vector.append(saved_features[4])\n",
    "            \n",
    "            else:\n",
    "                features.append(feature_vector)\n",
    "                classes.append(classes_vector)\n",
    "                feature_vector = []\n",
    "                classes_vector = []\n",
    "            \n",
    "            prev_sent_id = sent_id\n",
    "    \n",
    "    return features, classes               "
   ]
  },
  {
   "cell_type": "code",
   "execution_count": 19,
   "metadata": {},
   "outputs": [],
   "source": [
    "def train(features_file, model_name):\n",
    "    # Get features of train data\n",
    "    features_train, gs_train = read_features_and_classes(features_file)\n",
    "    \n",
    "    # Train\n",
    "    crf = pycrfsuite.Trainer(verbose=False)\n",
    "    crf.set_params({\n",
    "        'c1': 1.0,\n",
    "        'c2': 0.001,\n",
    "        'max_iterations': 1000,\n",
    "    })\n",
    "\n",
    "    for xseq, yseq in zip(features_train, gs_train):\n",
    "        crf.append(xseq, yseq)\n",
    "\n",
    "    crf.train(model_name)\n",
    "    \n",
    "    return"
   ]
  },
  {
   "cell_type": "code",
   "execution_count": 20,
   "metadata": {},
   "outputs": [],
   "source": [
    "train('train_feature_vectors', 'ml_model.crfsuite')"
   ]
  },
  {
   "cell_type": "markdown",
   "metadata": {},
   "source": [
    "### Classifier"
   ]
  },
  {
   "cell_type": "code",
   "execution_count": 21,
   "metadata": {},
   "outputs": [],
   "source": [
    "def read_features(sent_id, inputfile):\n",
    "    features = []\n",
    "    with open(inputfile) as f:\n",
    "        features = [line.split()[5:] for line in f if line.split()[0] == sent_id]\n",
    "        \n",
    "    return features    "
   ]
  },
  {
   "cell_type": "code",
   "execution_count": 22,
   "metadata": {},
   "outputs": [],
   "source": [
    "def predict_classes(tagger, features):\n",
    "    classes = []\n",
    "    for ch in tagger.tag(features):\n",
    "        classes.append(ch)\n",
    "    return classes"
   ]
  },
  {
   "cell_type": "code",
   "execution_count": 23,
   "metadata": {},
   "outputs": [],
   "source": [
    "def output_entities(sent_id, tokens, classes, outf):\n",
    "    B_indices = [i for i in range(len(classes)) if classes[i].startswith('B')]\n",
    "    for b in B_indices:\n",
    "        I_indices = []\n",
    "        i = b + 1\n",
    "        while i < len(classes) and classes[i].startswith('I'):\n",
    "            I_indices.append(i)\n",
    "            i+=1\n",
    "        \n",
    "        if len(I_indices) == 0:\n",
    "            outf.write(sent_id+'|'+str(tokens[b][1])+'-'+str(tokens[b][2])+'|'+tokens[b][0]+'|'+classes[b][2:])\n",
    "        else:\n",
    "            joined_tokens = ' '.join([tokens[j][0] for j in [b] + I_indices])\n",
    "            outf.write(sent_id+'|'+str(tokens[b][1])+'-'+str(tokens[I_indices[-1]][2])+'|'+joined_tokens+'|'+classes[b][2:])\n",
    "        \n",
    "        outf.write(\"\\n\")   \n",
    "    return"
   ]
  },
  {
   "cell_type": "code",
   "execution_count": 24,
   "metadata": {},
   "outputs": [],
   "source": [
    "def evaluate(inputdir, outputfile):\n",
    "    os.system(\"java -jar eval/evaluateNER.jar \"+ str(inputdir) + \" \" + str(outputfile))\n",
    "    return"
   ]
  },
  {
   "cell_type": "code",
   "execution_count": 25,
   "metadata": {},
   "outputs": [],
   "source": [
    "def my_nerc(inputdir, outputfile, model_name, features_file):    \n",
    "    outf = open(outputfile, \"w\")\n",
    "    # Read files and parse files\n",
    "    for filename in os.listdir(inputdir):\n",
    "        fullname = os.path.join(inputdir, filename)\n",
    "        tree = ET.parse(fullname)\n",
    "        root = tree.getroot()    \n",
    "        sentences = root.findall('sentence')\n",
    "        for i in range(len(sentences)):\n",
    "            # Get sentence id and tokenize text\n",
    "            sent_id = sentences[i].get('id')\n",
    "            tokens = tokenize(sentences[i].get('text'))\n",
    "            features = read_features(sent_id, features_file)\n",
    "            \n",
    "            tagger = pycrfsuite.Tagger()\n",
    "            tagger.open(model_name)\n",
    "            classes = predict_classes(tagger, features)\n",
    "            \n",
    "            output_entities(sent_id, tokens, classes, outf)\n",
    "    \n",
    "    outf.close()\n",
    "    evaluate(inputdir, outputfile)\n",
    "    return"
   ]
  },
  {
   "cell_type": "code",
   "execution_count": 26,
   "metadata": {
    "scrolled": false
   },
   "outputs": [],
   "source": [
    "my_nerc(devel_path, 'task9.1_devel_1.txt', 'ml_model.crfsuite', 'devel_feature_vectors')"
   ]
  },
  {
   "cell_type": "code",
   "execution_count": 27,
   "metadata": {},
   "outputs": [],
   "source": [
    "my_nerc(test_path, 'task9.1_test_1.txt', 'ml_model.crfsuite', 'test_feature_vectors')"
   ]
  },
  {
   "cell_type": "code",
   "execution_count": null,
   "metadata": {},
   "outputs": [],
   "source": []
  }
 ],
 "metadata": {
  "kernelspec": {
   "display_name": "Python 3",
   "language": "python",
   "name": "python3"
  },
  "language_info": {
   "codemirror_mode": {
    "name": "ipython",
    "version": 3
   },
   "file_extension": ".py",
   "mimetype": "text/x-python",
   "name": "python",
   "nbconvert_exporter": "python",
   "pygments_lexer": "ipython3",
   "version": "3.7.4"
  }
 },
 "nbformat": 4,
 "nbformat_minor": 2
}
