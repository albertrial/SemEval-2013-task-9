{
 "cells": [
  {
   "cell_type": "code",
   "execution_count": 8,
   "metadata": {},
   "outputs": [
    {
     "name": "stderr",
     "output_type": "stream",
     "text": [
      "[nltk_data] Downloading package punkt to\n",
      "[nltk_data]     C:\\Users\\Albert\\AppData\\Roaming\\nltk_data...\n",
      "[nltk_data]   Package punkt is already up-to-date!\n",
      "[nltk_data] Downloading package stopwords to\n",
      "[nltk_data]     C:\\Users\\Albert\\AppData\\Roaming\\nltk_data...\n",
      "[nltk_data]   Package stopwords is already up-to-date!\n"
     ]
    }
   ],
   "source": [
    "import os\n",
    "import nltk\n",
    "nltk.download('punkt')\n",
    "nltk.download('stopwords')\n",
    "from nltk.tokenize import word_tokenize\n",
    "from nltk.corpus import stopwords \n",
    "import xml.etree.ElementTree as ET"
   ]
  },
  {
   "cell_type": "code",
   "execution_count": 9,
   "metadata": {},
   "outputs": [],
   "source": [
    "path = \"data\\Train\"\n",
    "inputDir = \"data\\Devel\"\n",
    "stopwords = set(stopwords.words('english')) "
   ]
  },
  {
   "cell_type": "code",
   "execution_count": 10,
   "metadata": {},
   "outputs": [],
   "source": [
    "def text_exploration(path):\n",
    "    drug_dict = {'brand': \n",
    "                    {'freq_before':{}, 'freq_after':{}, 'freq_ini2':{}, 'freq_ini3':{}, 'freq_ini4':{}, 'freq_end2':{}, 'freq_end3':{}, 'freq_end4':{}},\n",
    "                 'drug':\n",
    "                    {'freq_before':{}, 'freq_after':{}, 'freq_ini2':{}, 'freq_ini3':{}, 'freq_ini4':{}, 'freq_end2':{}, 'freq_end3':{}, 'freq_end4':{}},\n",
    "                 'drug_n':\n",
    "                    {'freq_before':{}, 'freq_after':{}, 'freq_ini2':{}, 'freq_ini3':{}, 'freq_ini4':{}, 'freq_end2':{}, 'freq_end3':{}, 'freq_end4':{}},\n",
    "                 'group':\n",
    "                    {'freq_before':{}, 'freq_after':{}, 'freq_ini2':{}, 'freq_ini3':{}, 'freq_ini4':{}, 'freq_end2':{}, 'freq_end3':{}, 'freq_end4':{}}\n",
    "                }\n",
    "\n",
    "    # Read files and parse files\n",
    "    for filename in os.listdir(path):     \n",
    "        fullname = os.path.join(path, filename)\n",
    "        tree = ET.parse(fullname)\n",
    "        root = tree.getroot()    \n",
    "        \n",
    "        for sentence in root.findall('sentence'):\n",
    "            # Get sentence id and tokenize text\n",
    "            text = sentence.get('text')\n",
    "            # Remove stopwords\n",
    "            tokens = word_tokenize(text)\n",
    "            tokens = [word for word in tokens if word not in stopwords]\n",
    "            \n",
    "            #For each drug get: offset, name and type\n",
    "            for entity in sentence.findall('entity'):\n",
    "                # Get words before and after the drug\n",
    "                drug_name = entity.get('text')\n",
    "                before = ' '\n",
    "                after = ' '\n",
    "                if drug_name in tokens:\n",
    "                    index_drug = tokens.index(drug_name)\n",
    "                    if index_drug != 0:\n",
    "                        before = tokens[index_drug-1]\n",
    "                    if index_drug != len(tokens)-1:\n",
    "                        after = tokens[index_drug+1]\n",
    "                    \n",
    "                \n",
    "                # Get first chars of the drug name\n",
    "                sub_ini_2 = ' '\n",
    "                sub_ini_3 = ' '\n",
    "                sub_ini_4 = ' '\n",
    "                if len(drug_name) >= 2:\n",
    "                    sub_ini_2 = drug_name[:2]\n",
    "                if len(drug_name) >= 3:\n",
    "                    sub_ini_3 = drug_name[:3]\n",
    "                if len(drug_name) >= 4:\n",
    "                    sub_ini_4 = drug_name[:4]\n",
    "                \n",
    "                # Get last chars of the drug name\n",
    "                sub_end_2 = ' '\n",
    "                sub_end_3 = ' '\n",
    "                sub_end_4 = ' '\n",
    "                if len(drug_name) >= 2:\n",
    "                    sub_end_2 = drug_name[len(drug_name)-2:]\n",
    "                if len(drug_name) >= 3:\n",
    "                    sub_end_3 = drug_name[len(drug_name)-3:]\n",
    "                if len(drug_name) >= 4:\n",
    "                    sub_end_4 = drug_name[len(drug_name)-4:]\n",
    "                \n",
    "                # Count frequency\n",
    "                drug_type = entity.get('type')\n",
    "                \n",
    "                # Before\n",
    "                if before in drug_dict[drug_type]['freq_before']:\n",
    "                    drug_dict[drug_type]['freq_before'][before] += 1\n",
    "                else:\n",
    "                    drug_dict[drug_type]['freq_before'][before] = 1\n",
    "                \n",
    "                # After\n",
    "                if after in drug_dict[drug_type]['freq_after']:\n",
    "                    drug_dict[drug_type]['freq_after'][after] += 1\n",
    "                else:\n",
    "                    drug_dict[drug_type]['freq_after'][after] = 1\n",
    "                    \n",
    "                # Ini_2\n",
    "                if sub_ini_2 in drug_dict[drug_type]['freq_ini2']:\n",
    "                    drug_dict[drug_type]['freq_ini2'][sub_ini_2] += 1\n",
    "                else:\n",
    "                    drug_dict[drug_type]['freq_ini2'][sub_ini_2] = 1\n",
    "                    \n",
    "                # Ini_3\n",
    "                if sub_ini_3 in drug_dict[drug_type]['freq_ini3']:\n",
    "                    drug_dict[drug_type]['freq_ini3'][sub_ini_3] += 1\n",
    "                else:\n",
    "                    drug_dict[drug_type]['freq_ini3'][sub_ini_3] = 1\n",
    "                    \n",
    "                # Ini_4\n",
    "                if sub_ini_4 in drug_dict[drug_type]['freq_ini4']:\n",
    "                    drug_dict[drug_type]['freq_ini4'][sub_ini_4] += 1\n",
    "                else:\n",
    "                    drug_dict[drug_type]['freq_ini4'][sub_ini_4] = 1\n",
    "                    \n",
    "                # End_2\n",
    "                if sub_end_2 in drug_dict[drug_type]['freq_end2']:\n",
    "                    drug_dict[drug_type]['freq_end2'][sub_end_2] += 1\n",
    "                else:\n",
    "                    drug_dict[drug_type]['freq_end2'][sub_end_2] = 1\n",
    "                    \n",
    "                # End_3\n",
    "                if sub_end_3 in drug_dict[drug_type]['freq_end3']:\n",
    "                    drug_dict[drug_type]['freq_end3'][sub_end_3] += 1\n",
    "                else:\n",
    "                    drug_dict[drug_type]['freq_end3'][sub_end_3] = 1\n",
    "                    \n",
    "                # End_4\n",
    "                if sub_end_4 in drug_dict[drug_type]['freq_end4']:\n",
    "                    drug_dict[drug_type]['freq_end4'][sub_end_4] += 1\n",
    "                else:\n",
    "                    drug_dict[drug_type]['freq_end4'][sub_end_4] = 1\n",
    "            \n",
    "    return drug_dict"
   ]
  },
  {
   "cell_type": "markdown",
   "metadata": {},
   "source": [
    "### Data exploration and analysis\n",
    "\n",
    "In order to create the dumb rules to find and classify the drugs, a previous analysis has been done. Using the function _text exploration_ the drugs are analysed by type, storing the following information:\n",
    "    - The frequence of the words that appear after and before the drug.\n",
    "    - The frequence of the inicial bigrams, trigrams and tetragram of the name of the drug.\n",
    "    - The frequence of the final bigrams, trigrams and tetragram of the name of the drug."
   ]
  },
  {
   "cell_type": "code",
   "execution_count": 11,
   "metadata": {},
   "outputs": [],
   "source": [
    "drug_dict = text_exploration(path)"
   ]
  },
  {
   "cell_type": "code",
   "execution_count": 12,
   "metadata": {},
   "outputs": [
    {
     "name": "stdout",
     "output_type": "stream",
     "text": [
      "BRAND\n",
      "Before: [(161, ' '), (135, ','), (72, '('), (48, 'administration'), (36, 'receiving'), (28, 'use'), (20, 'effect'), (19, 'doses'), (18, 'effects'), (18, ':')]\n",
      "After: [(114, ','), (110, '.'), (103, ')'), (63, ' '), (56, 'may'), (56, '('), (35, 'used'), (30, 'administered'), (21, 'drugs'), (17, ':')]\n",
      "Ini2: [(68, 'as'), (38, 'TA'), (37, 'VI'), (36, 'SU'), (32, 'PR'), (27, 'PE'), (25, 'An'), (23, 'CA'), (23, 'As'), (23, 'Ac')]\n",
      "Ini3: [(68, 'asp'), (27, 'TAX'), (26, 'PEG'), (24, 'SUS'), (22, 'Asp'), (20, 'VIO'), (18, 'Acc'), (17, 'CRI'), (16, 'Tri'), (16, 'AME')]\n",
      "Ini4: [(68, 'aspi'), (27, 'TAXO'), (26, 'PEGA'), (24, 'SUST'), (22, 'Aspi'), (20, 'VIOX'), (18, 'Accu'), (17, 'CRIX'), (16, 'Tril'), (15, 'NIMB')]\n",
      "End2: [(130, 'in'), (72, 'EX'), (65, 'ne'), (47, 'OL'), (37, 'VA'), (36, 'IL'), (31, 'AN'), (29, 'IN'), (23, 'YS'), (22, 'al')]\n",
      "End3: [(92, 'rin'), (28, 'IVA'), (27, 'ine'), (27, 'DEX'), (25, 'XOL'), (24, 'ane'), (23, 'SYS'), (21, 'IVE'), (20, 'OXX'), (19, 'tin')]\n",
      "End4: [(89, 'irin'), (28, 'TIVA'), (25, 'AXOL'), (23, 'ASYS'), (22, 'tane'), (20, 'IOXX'), (17, 'IVAN'), (17, 'IDEX'), (16, 'OSYN'), (15, 'dine')]\n"
     ]
    }
   ],
   "source": [
    "exploration_type = 'brand'\n",
    "freq_before = sorted(((value, key) for (key,value) in drug_dict[exploration_type]['freq_before'].items()), reverse = True)\n",
    "freq_after = sorted(((value, key) for (key,value) in drug_dict[exploration_type]['freq_after'].items()), reverse = True)\n",
    "freq_ini2 = sorted(((value, key) for (key,value) in drug_dict[exploration_type]['freq_ini2'].items()), reverse = True)\n",
    "freq_ini3 = sorted(((value, key) for (key,value) in drug_dict[exploration_type]['freq_ini3'].items()), reverse = True)\n",
    "freq_ini4 = sorted(((value, key) for (key,value) in drug_dict[exploration_type]['freq_ini4'].items()), reverse = True)\n",
    "freq_end2 = sorted(((value, key) for (key,value) in drug_dict[exploration_type]['freq_end2'].items()), reverse = True)\n",
    "freq_end3 = sorted(((value, key) for (key,value) in drug_dict[exploration_type]['freq_end3'].items()), reverse = True)\n",
    "freq_end4 = sorted(((value, key) for (key,value) in drug_dict[exploration_type]['freq_end4'].items()), reverse = True)\n",
    "print(\"BRAND\")\n",
    "print(\"Before:\", freq_before[:10])\n",
    "print(\"After:\", freq_after[:10])\n",
    "print(\"Ini2:\", freq_ini2[:10])\n",
    "print(\"Ini3:\", freq_ini3[:10])\n",
    "print(\"Ini4:\", freq_ini4[:10])\n",
    "print(\"End2:\", freq_end2[:10])\n",
    "print(\"End3:\", freq_end3[:10])\n",
    "print(\"End4:\", freq_end4[:10])"
   ]
  },
  {
   "cell_type": "code",
   "execution_count": 13,
   "metadata": {},
   "outputs": [
    {
     "name": "stdout",
     "output_type": "stream",
     "text": [
      "DRUG\n",
      "Before: [(1673, ' '), (1527, ','), (144, 'administration'), (133, '('), (129, ':'), (128, ')'), (124, 'effect'), (93, 'dose'), (82, 'use'), (81, 'effects')]\n",
      "After: [(1568, ','), (825, ' '), (579, '.'), (397, '('), (358, ':'), (245, ')'), (206, 'may'), (135, ';'), (89, 'administered'), (73, 'therapy')]\n",
      "Ini2: [(465, 'di'), (245, 'al'), (235, 'ph'), (227, 'ci'), (201, 'pr'), (187, 'me'), (178, 'ca'), (177, 'fl'), (176, 'am'), (169, 'wa')]\n",
      "Ini3: [(231, 'phe'), (196, 'dig'), (169, 'war'), (161, 'pro'), (154, 'met'), (153, 'flu'), (121, 'the'), (120, 'ket'), (102, 'lit'), (99, 'cyc')]\n",
      "Ini4: [(231, 'phen'), (188, 'digo'), (169, 'warf'), (121, 'theo'), (105, 'keto'), (104, 'meth'), (102, 'lith'), (99, 'cycl'), (90, 'rifa'), (87, 'cime')]\n",
      "End2: [(2445, 'ne'), (1610, 'in'), (632, 'de'), (457, 'ol'), (365, 'le'), (301, 'um'), (296, 'te'), (269, 'am'), (208, 'ir'), (200, 'id')]\n",
      "End3: [(2013, 'ine'), (630, 'ide'), (420, 'cin'), (365, 'ole'), (350, 'one'), (298, 'rin'), (295, 'ate'), (278, 'ium'), (230, 'xin'), (208, 'vir')]\n",
      "End4: [(420, 'dine'), (352, 'zole'), (329, 'pine'), (256, 'line'), (251, 'mide'), (247, 'mine'), (246, 'arin'), (225, 'oxin'), (218, 'ycin'), (199, 'avir')]\n"
     ]
    }
   ],
   "source": [
    "exploration_type = 'drug'\n",
    "freq_before = sorted(((value, key) for (key,value) in drug_dict[exploration_type]['freq_before'].items()), reverse = True)\n",
    "freq_after = sorted(((value, key) for (key,value) in drug_dict[exploration_type]['freq_after'].items()), reverse = True)\n",
    "freq_ini2 = sorted(((value, key) for (key,value) in drug_dict[exploration_type]['freq_ini2'].items()), reverse = True)\n",
    "freq_ini3 = sorted(((value, key) for (key,value) in drug_dict[exploration_type]['freq_ini3'].items()), reverse = True)\n",
    "freq_ini4 = sorted(((value, key) for (key,value) in drug_dict[exploration_type]['freq_ini4'].items()), reverse = True)\n",
    "freq_end2 = sorted(((value, key) for (key,value) in drug_dict[exploration_type]['freq_end2'].items()), reverse = True)\n",
    "freq_end3 = sorted(((value, key) for (key,value) in drug_dict[exploration_type]['freq_end3'].items()), reverse = True)\n",
    "freq_end4 = sorted(((value, key) for (key,value) in drug_dict[exploration_type]['freq_end4'].items()), reverse = True)\n",
    "print(\"DRUG\")\n",
    "print(\"Before:\", freq_before[:10])\n",
    "print(\"After:\", freq_after[:10])\n",
    "print(\"Ini2:\", freq_ini2[:10])\n",
    "print(\"Ini3:\", freq_ini3[:10])\n",
    "print(\"Ini4:\", freq_ini4[:10])\n",
    "print(\"End2:\", freq_end2[:10])\n",
    "print(\"End3:\", freq_end3[:10])\n",
    "print(\"End4:\", freq_end4[:10])"
   ]
  },
  {
   "cell_type": "code",
   "execution_count": 14,
   "metadata": {},
   "outputs": [
    {
     "name": "stdout",
     "output_type": "stream",
     "text": [
      "DRUG_N\n",
      "Before: [(135, ' '), (38, ','), (19, '('), (10, 'effects'), (7, 'Both'), (6, 'effect'), (5, 'metabolite'), (5, 'dose'), (5, 'administration'), (4, 'treated')]\n",
      "After: [(109, ' '), (42, '('), (37, ','), (24, '.'), (21, ')'), (5, 'may'), (5, '18-MC'), (4, 'ibogaine'), (3, 'alone'), (3, ';')]\n",
      "Ini2: [(17, '18'), (16, '1,'), (14, 'ib'), (14, 'en'), (14, 'co'), (12, 'MH'), (10, 'dm'), (9, 'to'), (9, 'de'), (8, 'ph')]\n",
      "Ini3: [(17, '18-'), (16, '1,3'), (14, 'ibo'), (12, 'MHD'), (12, ' '), (11, 'end'), (10, 'dmP'), (9, 'tox'), (8, 'hyd'), (8, 'gin')]\n",
      "Ini4: [(52, ' '), (17, '18-M'), (16, '1,3-'), (14, 'ibog'), (11, 'endo'), (10, 'dmPG'), (9, 'toxi'), (8, 'hydr'), (8, 'gins'), (8, 'NaCM')]\n",
      "End2: [(66, 'in'), (54, 'ne'), (24, 'te'), (24, 'ol'), (24, 'MC'), (13, 'de'), (12, 'le'), (12, 'HD'), (12, 'E2'), (11, ' A')]\n",
      "End3: [(43, 'ine'), (24, 'ate'), (17, 'sin'), (16, 'xin'), (16, '-MC'), (12, 'tin'), (12, 'ole'), (12, 'MHD'), (12, ' '), (11, 'n A')]\n",
      "End4: [(52, ' '), (19, 'aine'), (16, 'oxin'), (16, '8-MC'), (12, 'zole'), (12, 'rate'), (11, 'in A'), (10, 'atin'), (10, 'PGE2'), (9, 'trol')]\n"
     ]
    }
   ],
   "source": [
    "exploration_type = 'drug_n'\n",
    "freq_before = sorted(((value, key) for (key,value) in drug_dict[exploration_type]['freq_before'].items()), reverse = True)\n",
    "freq_after = sorted(((value, key) for (key,value) in drug_dict[exploration_type]['freq_after'].items()), reverse = True)\n",
    "freq_ini2 = sorted(((value, key) for (key,value) in drug_dict[exploration_type]['freq_ini2'].items()), reverse = True)\n",
    "freq_ini3 = sorted(((value, key) for (key,value) in drug_dict[exploration_type]['freq_ini3'].items()), reverse = True)\n",
    "freq_ini4 = sorted(((value, key) for (key,value) in drug_dict[exploration_type]['freq_ini4'].items()), reverse = True)\n",
    "freq_end2 = sorted(((value, key) for (key,value) in drug_dict[exploration_type]['freq_end2'].items()), reverse = True)\n",
    "freq_end3 = sorted(((value, key) for (key,value) in drug_dict[exploration_type]['freq_end3'].items()), reverse = True)\n",
    "freq_end4 = sorted(((value, key) for (key,value) in drug_dict[exploration_type]['freq_end4'].items()), reverse = True)\n",
    "print(\"DRUG_N\")\n",
    "print(\"Before:\", freq_before[:10])\n",
    "print(\"After:\", freq_after[:10])\n",
    "print(\"Ini2:\", freq_ini2[:10])\n",
    "print(\"Ini3:\", freq_ini3[:10])\n",
    "print(\"Ini4:\", freq_ini4[:10])\n",
    "print(\"End2:\", freq_end2[:10])\n",
    "print(\"End3:\", freq_end3[:10])\n",
    "print(\"End4:\", freq_end4[:10])"
   ]
  },
  {
   "cell_type": "code",
   "execution_count": 15,
   "metadata": {},
   "outputs": [
    {
     "name": "stdout",
     "output_type": "stream",
     "text": [
      "GROUP\n",
      "Before: [(1511, ' '), (335, ','), (97, 'oral'), (60, '('), (35, ':'), (24, 'effects'), (21, 'Oral'), (17, 'use'), (17, 'taking'), (17, 'medications')]\n",
      "After: [(1359, ' '), (407, ','), (116, '.'), (98, ')'), (96, 'may'), (96, ':'), (86, '('), (32, 'therapy'), (20, 'containing'), (19, ';')]\n",
      "Ini2: [(488, 'an'), (163, 'co'), (127, 'be'), (121, 'An'), (111, 'tr'), (104, 'di'), (72, 'th'), (69, 'NS'), (64, 'ca'), (56, 'no')]\n",
      "Ini3: [(417, 'ant'), (107, 'Ant'), (95, 'tri'), (85, 'bet'), (69, 'NSA'), (68, 'cor'), (64, 'diu'), (59, 'con'), (56, 'non'), (53, 'MAO')]\n",
      "Ini4: [(362, 'anti'), (93, 'tric'), (85, 'beta'), (82, 'Anti'), (69, 'NSAI'), (67, 'cort'), (64, 'diur'), (58, 'cont'), (55, 'anta'), (45, 'phen')]\n",
      "End2: [(550, 'ts'), (527, 'es'), (333, 'cs'), (313, 'rs'), (187, 'ds'), (132, 'gs'), (116, 'ns'), (94, 'nt'), (74, 'Ds'), (57, 'ic')]\n",
      "End3: [(475, 'nts'), (333, 'ics'), (238, 'nes'), (205, 'ors'), (178, 'ids'), (131, 'ugs'), (108, 'ers'), (105, 'ves'), (98, 'tes'), (76, 'ant')]\n",
      "End4: [(266, 'tics'), (265, 'ants'), (210, 'ents'), (203, 'tors'), (194, 'ines'), (131, 'rugs'), (117, 'oids'), (105, 'ives'), (96, 'ates'), (91, 'kers')]\n"
     ]
    }
   ],
   "source": [
    "exploration_type = 'group'\n",
    "freq_before = sorted(((value, key) for (key,value) in drug_dict[exploration_type]['freq_before'].items()), reverse = True)\n",
    "freq_after = sorted(((value, key) for (key,value) in drug_dict[exploration_type]['freq_after'].items()), reverse = True)\n",
    "freq_ini2 = sorted(((value, key) for (key,value) in drug_dict[exploration_type]['freq_ini2'].items()), reverse = True)\n",
    "freq_ini3 = sorted(((value, key) for (key,value) in drug_dict[exploration_type]['freq_ini3'].items()), reverse = True)\n",
    "freq_ini4 = sorted(((value, key) for (key,value) in drug_dict[exploration_type]['freq_ini4'].items()), reverse = True)\n",
    "freq_end2 = sorted(((value, key) for (key,value) in drug_dict[exploration_type]['freq_end2'].items()), reverse = True)\n",
    "freq_end3 = sorted(((value, key) for (key,value) in drug_dict[exploration_type]['freq_end3'].items()), reverse = True)\n",
    "freq_end4 = sorted(((value, key) for (key,value) in drug_dict[exploration_type]['freq_end4'].items()), reverse = True)\n",
    "print(\"GROUP\")\n",
    "print(\"Before:\", freq_before[:10])\n",
    "print(\"After:\", freq_after[:10])\n",
    "print(\"Ini2:\", freq_ini2[:10])\n",
    "print(\"Ini3:\", freq_ini3[:10])\n",
    "print(\"Ini4:\", freq_ini4[:10])\n",
    "print(\"End2:\", freq_end2[:10])\n",
    "print(\"End3:\", freq_end3[:10])\n",
    "print(\"End4:\", freq_end4[:10])"
   ]
  },
  {
   "cell_type": "code",
   "execution_count": null,
   "metadata": {},
   "outputs": [],
   "source": []
  }
 ],
 "metadata": {
  "kernelspec": {
   "display_name": "Python 3",
   "language": "python",
   "name": "python3"
  },
  "language_info": {
   "codemirror_mode": {
    "name": "ipython",
    "version": 3
   },
   "file_extension": ".py",
   "mimetype": "text/x-python",
   "name": "python",
   "nbconvert_exporter": "python",
   "pygments_lexer": "ipython3",
   "version": "3.7.4"
  }
 },
 "nbformat": 4,
 "nbformat_minor": 2
}
