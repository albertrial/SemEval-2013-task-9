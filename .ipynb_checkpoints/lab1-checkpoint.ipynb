{
 "cells": [
  {
   "cell_type": "markdown",
   "metadata": {},
   "source": [
    "# Lab1\n",
    "\n",
    "### Imports "
   ]
  },
  {
   "cell_type": "code",
   "execution_count": 7,
   "metadata": {},
   "outputs": [],
   "source": [
    "import os\n",
    "import nltk\n",
    "#nltk.download('punkt')\n",
    "#nltk.download('stopwords')\n",
    "from nltk.tokenize import word_tokenize\n",
    "from nltk.corpus import stopwords \n",
    "import xml.etree.ElementTree as ET "
   ]
  },
  {
   "cell_type": "markdown",
   "metadata": {},
   "source": [
    "### Variables"
   ]
  },
  {
   "cell_type": "code",
   "execution_count": 8,
   "metadata": {},
   "outputs": [],
   "source": [
    "inputdir = \"data\\Devel\"\n",
    "stopwords = set(stopwords.words('english')) "
   ]
  },
  {
   "cell_type": "markdown",
   "metadata": {},
   "source": [
    "### Functions"
   ]
  },
  {
   "cell_type": "code",
   "execution_count": 93,
   "metadata": {},
   "outputs": [],
   "source": [
    "def tokenize(text): \n",
    "    list_tokens = []\n",
    "    tokens = word_tokenize(text)\n",
    "    ini_token = 0\n",
    "    for token in tokens:\n",
    "        ini_token = text.find(token, ini_token)\n",
    "        list_tokens.append((token, ini_token, ini_token+len(token)-1))\n",
    "        ini_token += len(token)\n",
    "        \n",
    "    return list_tokens\n",
    "\n",
    "def extract_entities(tokens):\n",
    "    entities = []\n",
    "    \n",
    "    for i in range(len(tokens)):\n",
    "        token = tokens[i]\n",
    "        word = token[0]\n",
    "        \n",
    "        # Prefix and sufix rules\n",
    "        drug_prefixes = ('pheny', 'digo', 'warfa', 'meth', 'theophy', 'lith', 'keto', 'cime', 'insu')\n",
    "        drug_sufixes = ('oxin', 'idine', 'azole', 'mide', 'pine', 'line', 'mine', 'arin', 'avir', 'ate', 'mines')\n",
    "        if word.lower().startswith(drug_prefixes) or word.lower().endswith(drug_sufixes):\n",
    "            entities.append({'name':word, 'offset': str(token[1])+'-'+str(token[2]),'type':'drug'})\n",
    "            \n",
    "        group_prefixes = ('benzo', 'corti', 'beta-', 'anti', 'tric', 'nsai')\n",
    "        group_sufixes = ('tics', 'ants', 'ents', 'tors')\n",
    "        if word.lower().startswith(group_prefixes) or word.lower().endswith(group_sufixes):\n",
    "            entities.append({'name':word, 'offset': str(token[1])+'-'+str(token[2]),'type':'group'})\n",
    "            \n",
    "        brand_prefixes = ('aspi', 'accu')\n",
    "        brand_sufixes = ('tane', 'dine', 'anil')\n",
    "        if (word.isupper() and len(word)>4) or word.lower().startswith(brand_prefixes) or word.lower().endswith(brand_sufixes):\n",
    "            entities.append({'name':word, 'offset': str(token[1])+'-'+str(token[2]),'type':'brand'})\n",
    "        \n",
    "        drug_n_prefixes = ('18-m', 'ibog', 'endo', 'toxi')\n",
    "        drug_n_sufixes = ('ine', 'ate', '8-mc', 'sin', 'xin', 'pge2', 'mhd')\n",
    "        if word.isupper() or word.lower().startswith(drug_n_prefixes) or word.lower().endswith(drug_n_prefixes):\n",
    "            entities.append({'name':word, 'offset': str(token[1])+'-'+str(token[2]),'type':'drug_n'})\n",
    "            \n",
    "#         # Words before\n",
    "#         if i > 0:\n",
    "#             before = tokens[i-1][0]\n",
    "#             if before == 'medications':\n",
    "#                 entities.append({'name':word, 'offset': str(token[1])+'-'+str(token[2]),'type':'group'})\n",
    "#             elif before == 'doses':\n",
    "#                 entities.append({'name':word, 'offset': str(token[1])+'-'+str(token[2]),'type':'brand'})\n",
    "#             elif before == 'administration':\n",
    "#                 entities.append({'name':word, 'offset': str(token[1])+'-'+str(token[2]),'type':'drug'})\n",
    "            \n",
    "            \n",
    "#         # Words after\n",
    "#         if i < len(tokens)-1:\n",
    "#             after = tokens[i+1][0]\n",
    "#             if after == 'containing':\n",
    "#                 entities.append({'name':word, 'offset': str(token[1])+'-'+str(token[2]),'type':'group'})\n",
    "#             elif after == 'administered':\n",
    "#                 entities.append({'name':word, 'offset': str(token[1])+'-'+str(token[2]),'type':'drug'})\n",
    "        \n",
    "            \n",
    "        \n",
    "    return entities\n",
    "\n",
    "def output_entities(sent_id, ents, outf):\n",
    "    for entity in ents:\n",
    "        outf.write(sent_id+'|'+entity['offset']+'|'+entity['name']+'|'+entity['type'])\n",
    "        outf.write(\"\\n\")\n",
    "    return\n",
    "\n",
    "def evaluate(inputdir, outputfile):\n",
    "    os.system(\"java -jar eval/evaluateNER.jar \"+ str(inputdir) + \" \" + str(outputfile))\n",
    "    return\n",
    "\n",
    "def my_nerc(inputdir, outputfile):\n",
    "    outf = open(outputfile, \"w\")\n",
    "    # Read files and parse files\n",
    "    for filename in os.listdir(inputdir):     \n",
    "        fullname = os.path.join(inputdir, filename)\n",
    "        tree = ET.parse(fullname)\n",
    "        root = tree.getroot()    \n",
    "        \n",
    "        for sentence in root.findall('sentence'):\n",
    "            # Get sentence id and tokenize text\n",
    "            sent_id = sentence.get('id')\n",
    "            tokens = tokenize(sentence.get('text'))\n",
    "            entities = extract_entities(tokens)\n",
    "            output_entities(sent_id, entities, outf)\n",
    "    \n",
    "    outf.close()\n",
    "    evaluate(inputdir, outputfile)\n",
    "    return"
   ]
  },
  {
   "cell_type": "code",
   "execution_count": 94,
   "metadata": {},
   "outputs": [],
   "source": [
    "my_nerc(inputdir, 'task9.1_devel_1.txt')"
   ]
  },
  {
   "cell_type": "code",
   "execution_count": null,
   "metadata": {},
   "outputs": [],
   "source": []
  },
  {
   "cell_type": "code",
   "execution_count": null,
   "metadata": {},
   "outputs": [],
   "source": []
  }
 ],
 "metadata": {
  "kernelspec": {
   "display_name": "Python 3",
   "language": "python",
   "name": "python3"
  },
  "language_info": {
   "codemirror_mode": {
    "name": "ipython",
    "version": 3
   },
   "file_extension": ".py",
   "mimetype": "text/x-python",
   "name": "python",
   "nbconvert_exporter": "python",
   "pygments_lexer": "ipython3",
   "version": "3.7.4"
  }
 },
 "nbformat": 4,
 "nbformat_minor": 2
}
